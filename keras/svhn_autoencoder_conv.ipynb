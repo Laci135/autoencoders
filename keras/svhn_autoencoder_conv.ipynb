{
  "nbformat": 4,
  "nbformat_minor": 0,
  "metadata": {
    "colab": {
      "name": "autoencoder_conv.ipynb",
      "provenance": [],
      "collapsed_sections": [],
      "toc_visible": true,
      "machine_shape": "hm"
    },
    "kernelspec": {
      "name": "python3",
      "display_name": "Python 3"
    },
    "accelerator": "TPU"
  },
  "cells": [
    {
      "cell_type": "markdown",
      "metadata": {
        "id": "UW6il0pxeMWQ",
        "colab_type": "text"
      },
      "source": [
        "# Denoising autoencoder -- ConvNet implementation"
      ]
    },
    {
      "cell_type": "markdown",
      "metadata": {
        "id": "sA0lXBhqeUVI",
        "colab_type": "text"
      },
      "source": [
        "### Download data"
      ]
    },
    {
      "cell_type": "code",
      "metadata": {
        "id": "XitskwNJbwWN",
        "colab_type": "code",
        "outputId": "c44af966-d375-4f28-b35b-2dbcd5711419",
        "colab": {
          "base_uri": "https://localhost:8080/",
          "height": 222
        }
      },
      "source": [
        "!wget -O SVHN.mat http://ufldl.stanford.edu/housenumbers/train_32x32.mat # download SVHN dataset\n",
        "!mkdir datasets # create dataset dir\n",
        "!mv SVHN.mat datasets # move SVHN data to dataset dir"
      ],
      "execution_count": 3,
      "outputs": [
        {
          "output_type": "stream",
          "text": [
            "--2020-05-15 21:08:07--  http://ufldl.stanford.edu/housenumbers/train_32x32.mat\n",
            "Resolving ufldl.stanford.edu (ufldl.stanford.edu)... 171.64.68.10\n",
            "Connecting to ufldl.stanford.edu (ufldl.stanford.edu)|171.64.68.10|:80... connected.\n",
            "HTTP request sent, awaiting response... 200 OK\n",
            "Length: 182040794 (174M) [text/plain]\n",
            "Saving to: ‘SVHN.mat’\n",
            "\n",
            "SVHN.mat            100%[===================>] 173.61M  56.3MB/s    in 3.4s    \n",
            "\n",
            "2020-05-15 21:08:11 (51.2 MB/s) - ‘SVHN.mat’ saved [182040794/182040794]\n",
            "\n"
          ],
          "name": "stdout"
        }
      ]
    },
    {
      "cell_type": "markdown",
      "metadata": {
        "id": "jMxl_cYJebGc",
        "colab_type": "text"
      },
      "source": [
        "### Imports"
      ]
    },
    {
      "cell_type": "code",
      "metadata": {
        "id": "iqv6qPkib1od",
        "colab_type": "code",
        "colab": {}
      },
      "source": [
        "import numpy as np # numpy for matrix operations\n",
        "import math # math for mathematical operations\n",
        "import scipy.io # scipy for loading data\n",
        "\n",
        "# keras layers\n",
        "from keras.models import Sequential\n",
        "from keras.layers import Conv2D, MaxPooling2D, UpSampling2D, ReLU\n",
        "from keras.losses import MSE\n",
        "from keras import regularizers"
      ],
      "execution_count": 0,
      "outputs": []
    },
    {
      "cell_type": "markdown",
      "metadata": {
        "id": "dMfYOEoZ_Oqa",
        "colab_type": "text"
      },
      "source": [
        "### Read images"
      ]
    },
    {
      "cell_type": "code",
      "metadata": {
        "id": "33q84gmAdQpF",
        "colab_type": "code",
        "outputId": "e8ccd959-73ab-4025-8d88-70d41c20bfdb",
        "colab": {
          "base_uri": "https://localhost:8080/",
          "height": 285
        }
      },
      "source": [
        "images = np.rollaxis(np.array(scipy.io.loadmat(\"datasets/SVHN.mat\")['X']), axis = 3, start=0) #read and reshape images\n",
        "plt.imshow(images[8]) # show sample image"
      ],
      "execution_count": 15,
      "outputs": [
        {
          "output_type": "execute_result",
          "data": {
            "text/plain": [
              "<matplotlib.image.AxesImage at 0x7f1605eefa90>"
            ]
          },
          "metadata": {
            "tags": []
          },
          "execution_count": 15
        },
        {
          "output_type": "display_data",
          "data": {
            "image/png": "[encoded data removed]",
            "text/plain": [
              "<Figure size 432x288 with 1 Axes>"
            ]
          },
          "metadata": {
            "tags": [],
            "needs_background": "light"
          }
        }
      ]
    },
    {
      "cell_type": "markdown",
      "metadata": {
        "id": "mpZa-r1PEeEs",
        "colab_type": "text"
      },
      "source": [
        "### Create noisy images"
      ]
    },
    {
      "cell_type": "code",
      "metadata": {
        "id": "kU7OIE5VAvAl",
        "colab_type": "code",
        "outputId": "922abcbe-0ab1-43cf-891a-c5a645f33428",
        "colab": {
          "base_uri": "https://localhost:8080/",
          "height": 285
        }
      },
      "source": [
        "noise = np.random.binomial(400, 0.5, images.shape)-200 # generate gaussian noise\n",
        "noisy_images = images + noise # add noise to data\n",
        "plt.imshow(noisy_images[8]) # show sample noisy image"
      ],
      "execution_count": 16,
      "outputs": [
        {
          "output_type": "execute_result",
          "data": {
            "text/plain": [
              "<matplotlib.image.AxesImage at 0x7f1605e4b8d0>"
            ]
          },
          "metadata": {
            "tags": []
          },
          "execution_count": 16
        },
        {
          "output_type": "display_data",
          "data": {
            "image/png": "[encoded data removed]",
            "text/plain": [
              "<Figure size 432x288 with 1 Axes>"
            ]
          },
          "metadata": {
            "tags": [],
            "needs_background": "light"
          }
        }
      ]
    },
    {
      "cell_type": "markdown",
      "metadata": {
        "id": "1pdSnyLe2NqR",
        "colab_type": "text"
      },
      "source": [
        "### Add salt/pepper noise"
      ]
    },
    {
      "cell_type": "code",
      "metadata": {
        "id": "VMW6jUXr2NKp",
        "colab_type": "code",
        "outputId": "ae60f709-476b-4cf7-c03f-2298bbb039a3",
        "colab": {
          "base_uri": "https://localhost:8080/",
          "height": 324
        }
      },
      "source": [
        "mask = np.random.randint(0,1000,size=noisy_images.shape).astype(np.bool) # generate pepper noise\n",
        "noisy_images *= mask # add pepper noise\n",
        "\n",
        "noisy_images = 255-noisy_images # invert image\n",
        "\n",
        "mask = np.random.randint(0,1000,size=noisy_images.shape).astype(np.bool) # repeat for salt noise\n",
        "noisy_images *= mask\n",
        "\n",
        "noisy_images = 255-noisy_images # invert again\n",
        "\n",
        "plt.imshow(noisy_images[0]) # show image"
      ],
      "execution_count": 17,
      "outputs": [
        {
          "output_type": "stream",
          "text": [
            "Clipping input data to the valid range for imshow with RGB data ([0..1] for floats or [0..255] for integers).\n"
          ],
          "name": "stderr"
        },
        {
          "output_type": "execute_result",
          "data": {
            "text/plain": [
              "<matplotlib.image.AxesImage at 0x7f1605e25cf8>"
            ]
          },
          "metadata": {
            "tags": []
          },
          "execution_count": 17
        },
        {
          "output_type": "display_data",
          "data": {
            "image/png": "[encoded data removed]",
            "text/plain": [
              "<Figure size 432x288 with 1 Axes>"
            ]
          },
          "metadata": {
            "tags": [],
            "needs_background": "light"
          }
        }
      ]
    },
    {
      "cell_type": "markdown",
      "metadata": {
        "id": "f4s5GvigETmF",
        "colab_type": "text"
      },
      "source": [
        "### Split dataset"
      ]
    },
    {
      "cell_type": "code",
      "metadata": {
        "id": "5SBjFlx5ETJk",
        "colab_type": "code",
        "colab": {}
      },
      "source": [
        "split = math.floor(0.9*len(images)) # split dataset to train and val\n",
        "\n",
        "val_images = images[split:]\n",
        "val_noisy_images = noisy_images[split:]\n",
        "\n",
        "images = images[:split]\n",
        "noisy_images = noisy_images[:split]"
      ],
      "execution_count": 0,
      "outputs": []
    },
    {
      "cell_type": "markdown",
      "metadata": {
        "id": "G1Xglpg9aicD",
        "colab_type": "text"
      },
      "source": [
        "### Normalize data"
      ]
    },
    {
      "cell_type": "code",
      "metadata": {
        "id": "NbFlkrw_ah-E",
        "colab_type": "code",
        "colab": {}
      },
      "source": [
        "avg = np.average(noisy_images) # calculate mean\n",
        "std = np.std(noisy_images) # calculate std\n",
        "\n",
        "noisy_images_downscaled  = (noisy_images - avg) / std # normalize data (standard norm.)\n",
        "val_noisy_images_downscaled = (val_noisy_images - avg) / std"
      ],
      "execution_count": 0,
      "outputs": []
    },
    {
      "cell_type": "markdown",
      "metadata": {
        "id": "lOufPsZZ7r7s",
        "colab_type": "text"
      },
      "source": [
        "### Define model"
      ]
    },
    {
      "cell_type": "code",
      "metadata": {
        "id": "RNAj2Fdv7sRb",
        "colab_type": "code",
        "colab": {}
      },
      "source": [
        "# convolutional implementation of the autoencoder\n",
        "class Autoencoder():\n",
        "    # parameters: nubmer of conv levels, layers per level, thickness of layers\n",
        "    def __init__(self, levels, layers, thickness, n):\n",
        "        super(Autoencoder, self).__init__()\n",
        "        self.levels = levels\n",
        "        self.layers = layers\n",
        "        self.n = n\n",
        "        self.thickness = thickness\n",
        "        self.__built = False\n",
        "\n",
        "    # this method builds the autoencoder\n",
        "    # automatically called on first forward pass or summary\n",
        "    def __build(self, X):\n",
        "        self.__model = Sequential() # sequetnial model\n",
        "        for level in range(self.levels): # calculate convolutional layer sizes and create the layers\n",
        "            for layer in range(self.layers):\n",
        "                if level == 0 and layer == 0:\n",
        "                    # l2 reg to avoid overfitting\n",
        "                    self.__model.add(Conv2D(self.thickness*(2**level), kernel_size=(self.n, self.n), padding=\"same\", input_shape=X.shape[1:4], name=f\"encoder_conv{level}_{layer}\", kernel_regularizer=regularizers.l2(1e-6), bias_regularizer=regularizers.l2(1e-6)))\n",
        "                else:\n",
        "                    self.__model.add(Conv2D(self.thickness*(2**level), kernel_size=(self.n, self.n), padding=\"same\", name=f\"encoder_conv{level}_{layer}\"))\n",
        "                self.__model.add(ReLU(name=f\"encoder_relu{level}_{layer}\")) # relu to avoid loss of gradient\n",
        "            self.__model.add(MaxPooling2D(pool_size=(2,2), name=f\"encoder_maxpool{level}\")) # maxpool reduces dimensionality\n",
        "        for level in reversed(range(self.levels)):\n",
        "            for layer in range(self.layers):\n",
        "                self.__model.add(Conv2D(self.thickness*(2**level), kernel_size=(self.n, self.n), padding=\"same\", name=f\"decoder_conv{level}_{layer}\", kernel_regularizer=regularizers.l2(1e-6), bias_regularizer=regularizers.l2(1e-6)))\n",
        "                self.__model.add(ReLU(name=f\"decoder_relu{level}_{layer}\"))\n",
        "            self.__model.add(UpSampling2D(size=(2,2), name=f\"decoder_upsampling{level}\"))\n",
        "        self.__model.add(Conv2D(X.shape[3], kernel_size=(self.n, self.n), padding=\"same\", name=\"final_conv\"))\n",
        "        self.__model.compile(loss=['mse'], optimizer=\"adam\")\n",
        "        self.__built = True\n",
        "\n",
        "    # forward pass\n",
        "    # __call__ should be called instead\n",
        "    def forward(self, X, Y_target):\n",
        "        if not self.__built:\n",
        "            self.__build(X)\n",
        "        loss = self.__model.train_on_batch(X, Y_target)\n",
        "        return loss\n",
        "    \n",
        "    # print model summary\n",
        "    def summary(self):\n",
        "        assert self.__built, \"Build model first by passing a tensor to it.\"\n",
        "        self.__model.summary()\n",
        "    \n",
        "    # forward pass, no training is performed    \n",
        "    def predict(self, X):\n",
        "        return self.__model.predict(X)\n",
        "\n",
        "    # set trainability of network (does not require rebuild)\n",
        "    def trainable(self, val):\n",
        "        if not self.__built:\n",
        "            self.__build(X)\n",
        "        for layer in self.__model.layers:\n",
        "            layer.trainable = val\n"
      ],
      "execution_count": 0,
      "outputs": []
    },
    {
      "cell_type": "markdown",
      "metadata": {
        "id": "jY9TyUrN4Pdr",
        "colab_type": "text"
      },
      "source": [
        "### Train model"
      ]
    },
    {
      "cell_type": "code",
      "metadata": {
        "id": "L4-onG1H4Njo",
        "colab_type": "code",
        "outputId": "60a8805e-3778-4cb0-9b7b-edb18c9f69d7",
        "colab": {
          "base_uri": "https://localhost:8080/",
          "height": 1000
        }
      },
      "source": [
        "model = Autoencoder(levels = 3, layers = 1, thickness = 10, n = 3) # create model\n",
        "epochs = 200 # number of epochs\n",
        "batch_size = 12 # batch size for mini-batching\n",
        "lr = 0.00005 # learning rate\n",
        "\n",
        "loss_history = [] # loss history for plotting\n",
        "val_loss_history = []\n",
        "\n",
        "batches = math.ceil(images.shape[0] / batch_size) # calculate number of batches\n",
        "val_batches = math.ceil(val_images.shape[0] / batch_size)\n",
        "\n",
        "for e in range(epochs):\n",
        "    loss_total = 0\n",
        "    for b in range(batches): # pass all batches through the network\n",
        "        # before forward step, create the input and target batches\n",
        "        X = noisy_images_downscaled[batch_size*b:batch_size*(b+1)]\n",
        "        Y_target = images[batch_size*b:batch_size*(b+1)]\n",
        "        \n",
        "        model.trainable(True) # enable training\n",
        "        loss = model.forward(X, Y_target) # forward step\n",
        "\n",
        "        loss_total += loss\n",
        "\n",
        "    loss_avg = loss_total / (batches*batch_size) # calculate avg loss\n",
        "    loss_history.append(loss_avg)\n",
        "    print(f\"epoch {e} -- loss: {loss_avg}\", end=\"\")\n",
        "\n",
        "    val_loss_total = 0\n",
        "    for b in range(val_batches): # repeat for the val dataset\n",
        "        X = val_noisy_images_downscaled[batch_size*b:batch_size*(b+1)]\n",
        "        Y_target = val_images[batch_size*b:batch_size*(b+1)]\n",
        "\n",
        "        model.trainable(False)\n",
        "        val_loss = model.forward(X, Y_target)\n",
        "\n",
        "        val_loss_total += val_loss\n",
        "\n",
        "    val_loss_avg = val_loss_total / (val_batches*batch_size)\n",
        "    val_loss_history.append(val_loss_avg)\n",
        "    print(f\" -- val_loss: {val_loss_avg}\")\n"
      ],
      "execution_count": 22,
      "outputs": [
        {
          "output_type": "stream",
          "text": [
            "epoch 0 -- loss: 52.321821583940796"
          ],
          "name": "stdout"
        },
        {
          "output_type": "stream",
          "text": [
            "/usr/local/lib/python3.6/dist-packages/keras/engine/training.py:297: UserWarning: Discrepancy between trainable weights and collected trainable weights, did you set `model.trainable` without calling `model.compile` after ?\n",
            "  'Discrepancy between trainable weights and collected trainable'\n"
          ],
          "name": "stderr"
        },
        {
          "output_type": "stream",
          "text": [
            " -- val_loss: 23.96794673359856\n",
            "epoch 1 -- loss: 18.941605818542815 -- val_loss: 14.610219854509902\n",
            "epoch 2 -- loss: 13.503102261129929 -- val_loss: 11.561773435964131\n",
            "epoch 3 -- loss: 11.36483972877454 -- val_loss: 10.2331133476711\n",
            "epoch 4 -- loss: 10.210119607559218 -- val_loss: 9.375111340045668\n",
            "epoch 5 -- loss: 9.420780778704971 -- val_loss: 8.807422444395074\n",
            "epoch 6 -- loss: 8.911021082047661 -- val_loss: 8.21810125016932\n",
            "epoch 7 -- loss: 8.445862256999735 -- val_loss: 7.942443604685216\n",
            "epoch 8 -- loss: 8.156589466461746 -- val_loss: 7.729566327483681\n",
            "epoch 9 -- loss: 7.913042509248483 -- val_loss: 7.48861354592714\n",
            "epoch 10 -- loss: 7.760883446190984 -- val_loss: 7.211036835611679\n",
            "epoch 11 -- loss: 7.574084871365585 -- val_loss: 7.116593584101251\n",
            "epoch 12 -- loss: 7.452381292892146 -- val_loss: 6.9589911318839865\n",
            "epoch 13 -- loss: 7.245083278578486 -- val_loss: 7.089792211005029\n",
            "epoch 14 -- loss: 7.2312653999745145 -- val_loss: 6.737093070655069\n",
            "epoch 15 -- loss: 7.156204724246746 -- val_loss: 6.69763978348361\n",
            "epoch 16 -- loss: 7.068762639120632 -- val_loss: 6.59773260403772\n",
            "epoch 17 -- loss: 7.002907089207944 -- val_loss: 6.543572798623326\n",
            "epoch 18 -- loss: 6.867076652123055 -- val_loss: 6.620728990125058\n",
            "epoch 19 -- loss: 6.858923886883139 -- val_loss: 6.424146459717862\n",
            "epoch 20 -- loss: 6.811461057567509 -- val_loss: 6.374670086177528\n",
            "epoch 21 -- loss: 6.695895166718168 -- val_loss: 6.456505706514482\n",
            "epoch 22 -- loss: 6.695607274743619 -- val_loss: 6.278482769593085\n",
            "epoch 23 -- loss: 6.641878980949571 -- val_loss: 6.234194964446855\n",
            "epoch 24 -- loss: 6.571721373018005 -- val_loss: 6.2435638229507475\n",
            "epoch 25 -- loss: 6.5429747118095145 -- val_loss: 6.189213790466924\n",
            "epoch 26 -- loss: 6.493355574476238 -- val_loss: 6.136093293131211\n",
            "epoch 27 -- loss: 6.450653973817464 -- val_loss: 6.092665568506269\n",
            "epoch 28 -- loss: 6.428721634937411 -- val_loss: 6.065392585250763\n"
          ],
          "name": "stdout"
        },
        {
          "output_type": "error",
          "ename": "KeyboardInterrupt",
          "evalue": "ignored",
          "traceback": [
            "\u001b[0;31m---------------------------------------------------------------------------\u001b[0m",
            "\u001b[0;31mKeyboardInterrupt\u001b[0m                         Traceback (most recent call last)",
            "\u001b[0;32m<ipython-input-22-fa0cbb79040e>\u001b[0m in \u001b[0;36m<module>\u001b[0;34m()\u001b[0m\n\u001b[1;32m     17\u001b[0m \u001b[0;34m\u001b[0m\u001b[0m\n\u001b[1;32m     18\u001b[0m         \u001b[0mmodel\u001b[0m\u001b[0;34m.\u001b[0m\u001b[0mtrainable\u001b[0m\u001b[0;34m(\u001b[0m\u001b[0;32mTrue\u001b[0m\u001b[0;34m)\u001b[0m\u001b[0;34m\u001b[0m\u001b[0;34m\u001b[0m\u001b[0m\n\u001b[0;32m---> 19\u001b[0;31m         \u001b[0mloss\u001b[0m \u001b[0;34m=\u001b[0m \u001b[0mmodel\u001b[0m\u001b[0;34m.\u001b[0m\u001b[0mforward\u001b[0m\u001b[0;34m(\u001b[0m\u001b[0mX\u001b[0m\u001b[0;34m,\u001b[0m \u001b[0mY_target\u001b[0m\u001b[0;34m)\u001b[0m\u001b[0;34m\u001b[0m\u001b[0;34m\u001b[0m\u001b[0m\n\u001b[0m\u001b[1;32m     20\u001b[0m \u001b[0;34m\u001b[0m\u001b[0m\n\u001b[1;32m     21\u001b[0m         \u001b[0mloss_total\u001b[0m \u001b[0;34m+=\u001b[0m \u001b[0mloss\u001b[0m\u001b[0;34m\u001b[0m\u001b[0;34m\u001b[0m\u001b[0m\n",
            "\u001b[0;32m<ipython-input-20-8c5d4597b14d>\u001b[0m in \u001b[0;36mforward\u001b[0;34m(self, X, Y_target)\u001b[0m\n\u001b[1;32m     31\u001b[0m         \u001b[0;32mif\u001b[0m \u001b[0;32mnot\u001b[0m \u001b[0mself\u001b[0m\u001b[0;34m.\u001b[0m\u001b[0m__built\u001b[0m\u001b[0;34m:\u001b[0m\u001b[0;34m\u001b[0m\u001b[0;34m\u001b[0m\u001b[0m\n\u001b[1;32m     32\u001b[0m             \u001b[0mself\u001b[0m\u001b[0;34m.\u001b[0m\u001b[0m__build\u001b[0m\u001b[0;34m(\u001b[0m\u001b[0mX\u001b[0m\u001b[0;34m)\u001b[0m\u001b[0;34m\u001b[0m\u001b[0;34m\u001b[0m\u001b[0m\n\u001b[0;32m---> 33\u001b[0;31m         \u001b[0mloss\u001b[0m \u001b[0;34m=\u001b[0m \u001b[0mself\u001b[0m\u001b[0;34m.\u001b[0m\u001b[0m__model\u001b[0m\u001b[0;34m.\u001b[0m\u001b[0mtrain_on_batch\u001b[0m\u001b[0;34m(\u001b[0m\u001b[0mX\u001b[0m\u001b[0;34m,\u001b[0m \u001b[0mY_target\u001b[0m\u001b[0;34m)\u001b[0m\u001b[0;34m\u001b[0m\u001b[0;34m\u001b[0m\u001b[0m\n\u001b[0m\u001b[1;32m     34\u001b[0m         \u001b[0;32mreturn\u001b[0m \u001b[0mloss\u001b[0m\u001b[0;34m\u001b[0m\u001b[0;34m\u001b[0m\u001b[0m\n\u001b[1;32m     35\u001b[0m \u001b[0;34m\u001b[0m\u001b[0m\n",
            "\u001b[0;32m/usr/local/lib/python3.6/dist-packages/keras/engine/training.py\u001b[0m in \u001b[0;36mtrain_on_batch\u001b[0;34m(self, x, y, sample_weight, class_weight, reset_metrics)\u001b[0m\n\u001b[1;32m   1512\u001b[0m             \u001b[0mins\u001b[0m \u001b[0;34m=\u001b[0m \u001b[0mx\u001b[0m \u001b[0;34m+\u001b[0m \u001b[0my\u001b[0m \u001b[0;34m+\u001b[0m \u001b[0msample_weights\u001b[0m\u001b[0;34m\u001b[0m\u001b[0;34m\u001b[0m\u001b[0m\n\u001b[1;32m   1513\u001b[0m         \u001b[0mself\u001b[0m\u001b[0;34m.\u001b[0m\u001b[0m_make_train_function\u001b[0m\u001b[0;34m(\u001b[0m\u001b[0;34m)\u001b[0m\u001b[0;34m\u001b[0m\u001b[0;34m\u001b[0m\u001b[0m\n\u001b[0;32m-> 1514\u001b[0;31m         \u001b[0moutputs\u001b[0m \u001b[0;34m=\u001b[0m \u001b[0mself\u001b[0m\u001b[0;34m.\u001b[0m\u001b[0mtrain_function\u001b[0m\u001b[0;34m(\u001b[0m\u001b[0mins\u001b[0m\u001b[0;34m)\u001b[0m\u001b[0;34m\u001b[0m\u001b[0;34m\u001b[0m\u001b[0m\n\u001b[0m\u001b[1;32m   1515\u001b[0m \u001b[0;34m\u001b[0m\u001b[0m\n\u001b[1;32m   1516\u001b[0m         \u001b[0;32mif\u001b[0m \u001b[0mreset_metrics\u001b[0m\u001b[0;34m:\u001b[0m\u001b[0;34m\u001b[0m\u001b[0;34m\u001b[0m\u001b[0m\n",
            "\u001b[0;32m/usr/local/lib/python3.6/dist-packages/tensorflow/python/keras/backend.py\u001b[0m in \u001b[0;36m__call__\u001b[0;34m(self, inputs)\u001b[0m\n\u001b[1;32m   3790\u001b[0m         \u001b[0mvalue\u001b[0m \u001b[0;34m=\u001b[0m \u001b[0mmath_ops\u001b[0m\u001b[0;34m.\u001b[0m\u001b[0mcast\u001b[0m\u001b[0;34m(\u001b[0m\u001b[0mvalue\u001b[0m\u001b[0;34m,\u001b[0m \u001b[0mtensor\u001b[0m\u001b[0;34m.\u001b[0m\u001b[0mdtype\u001b[0m\u001b[0;34m)\u001b[0m\u001b[0;34m\u001b[0m\u001b[0;34m\u001b[0m\u001b[0m\n\u001b[1;32m   3791\u001b[0m       \u001b[0mconverted_inputs\u001b[0m\u001b[0;34m.\u001b[0m\u001b[0mappend\u001b[0m\u001b[0;34m(\u001b[0m\u001b[0mvalue\u001b[0m\u001b[0;34m)\u001b[0m\u001b[0;34m\u001b[0m\u001b[0;34m\u001b[0m\u001b[0m\n\u001b[0;32m-> 3792\u001b[0;31m     \u001b[0moutputs\u001b[0m \u001b[0;34m=\u001b[0m \u001b[0mself\u001b[0m\u001b[0;34m.\u001b[0m\u001b[0m_graph_fn\u001b[0m\u001b[0;34m(\u001b[0m\u001b[0;34m*\u001b[0m\u001b[0mconverted_inputs\u001b[0m\u001b[0;34m)\u001b[0m\u001b[0;34m\u001b[0m\u001b[0;34m\u001b[0m\u001b[0m\n\u001b[0m\u001b[1;32m   3793\u001b[0m \u001b[0;34m\u001b[0m\u001b[0m\n\u001b[1;32m   3794\u001b[0m     \u001b[0;31m# EagerTensor.numpy() will often make a copy to ensure memory safety.\u001b[0m\u001b[0;34m\u001b[0m\u001b[0;34m\u001b[0m\u001b[0;34m\u001b[0m\u001b[0m\n",
            "\u001b[0;32m/usr/local/lib/python3.6/dist-packages/tensorflow/python/eager/function.py\u001b[0m in \u001b[0;36m__call__\u001b[0;34m(self, *args, **kwargs)\u001b[0m\n\u001b[1;32m   1603\u001b[0m       \u001b[0mTypeError\u001b[0m\u001b[0;34m:\u001b[0m \u001b[0mFor\u001b[0m \u001b[0minvalid\u001b[0m \u001b[0mpositional\u001b[0m\u001b[0;34m/\u001b[0m\u001b[0mkeyword\u001b[0m \u001b[0margument\u001b[0m \u001b[0mcombinations\u001b[0m\u001b[0;34m.\u001b[0m\u001b[0;34m\u001b[0m\u001b[0;34m\u001b[0m\u001b[0m\n\u001b[1;32m   1604\u001b[0m     \"\"\"\n\u001b[0;32m-> 1605\u001b[0;31m     \u001b[0;32mreturn\u001b[0m \u001b[0mself\u001b[0m\u001b[0;34m.\u001b[0m\u001b[0m_call_impl\u001b[0m\u001b[0;34m(\u001b[0m\u001b[0margs\u001b[0m\u001b[0;34m,\u001b[0m \u001b[0mkwargs\u001b[0m\u001b[0;34m)\u001b[0m\u001b[0;34m\u001b[0m\u001b[0;34m\u001b[0m\u001b[0m\n\u001b[0m\u001b[1;32m   1606\u001b[0m \u001b[0;34m\u001b[0m\u001b[0m\n\u001b[1;32m   1607\u001b[0m   \u001b[0;32mdef\u001b[0m \u001b[0m_call_impl\u001b[0m\u001b[0;34m(\u001b[0m\u001b[0mself\u001b[0m\u001b[0;34m,\u001b[0m \u001b[0margs\u001b[0m\u001b[0;34m,\u001b[0m \u001b[0mkwargs\u001b[0m\u001b[0;34m,\u001b[0m \u001b[0mcancellation_manager\u001b[0m\u001b[0;34m=\u001b[0m\u001b[0;32mNone\u001b[0m\u001b[0;34m)\u001b[0m\u001b[0;34m:\u001b[0m\u001b[0;34m\u001b[0m\u001b[0;34m\u001b[0m\u001b[0m\n",
            "\u001b[0;32m/usr/local/lib/python3.6/dist-packages/tensorflow/python/eager/function.py\u001b[0m in \u001b[0;36m_call_impl\u001b[0;34m(self, args, kwargs, cancellation_manager)\u001b[0m\n\u001b[1;32m   1643\u001b[0m       raise TypeError(\"Keyword arguments {} unknown. Expected {}.\".format(\n\u001b[1;32m   1644\u001b[0m           list(kwargs.keys()), list(self._arg_keywords)))\n\u001b[0;32m-> 1645\u001b[0;31m     \u001b[0;32mreturn\u001b[0m \u001b[0mself\u001b[0m\u001b[0;34m.\u001b[0m\u001b[0m_call_flat\u001b[0m\u001b[0;34m(\u001b[0m\u001b[0margs\u001b[0m\u001b[0;34m,\u001b[0m \u001b[0mself\u001b[0m\u001b[0;34m.\u001b[0m\u001b[0mcaptured_inputs\u001b[0m\u001b[0;34m,\u001b[0m \u001b[0mcancellation_manager\u001b[0m\u001b[0;34m)\u001b[0m\u001b[0;34m\u001b[0m\u001b[0;34m\u001b[0m\u001b[0m\n\u001b[0m\u001b[1;32m   1646\u001b[0m \u001b[0;34m\u001b[0m\u001b[0m\n\u001b[1;32m   1647\u001b[0m   \u001b[0;32mdef\u001b[0m \u001b[0m_filtered_call\u001b[0m\u001b[0;34m(\u001b[0m\u001b[0mself\u001b[0m\u001b[0;34m,\u001b[0m \u001b[0margs\u001b[0m\u001b[0;34m,\u001b[0m \u001b[0mkwargs\u001b[0m\u001b[0;34m)\u001b[0m\u001b[0;34m:\u001b[0m\u001b[0;34m\u001b[0m\u001b[0;34m\u001b[0m\u001b[0m\n",
            "\u001b[0;32m/usr/local/lib/python3.6/dist-packages/tensorflow/python/eager/function.py\u001b[0m in \u001b[0;36m_call_flat\u001b[0;34m(self, args, captured_inputs, cancellation_manager)\u001b[0m\n\u001b[1;32m   1744\u001b[0m       \u001b[0;31m# No tape is watching; skip to running the function.\u001b[0m\u001b[0;34m\u001b[0m\u001b[0;34m\u001b[0m\u001b[0;34m\u001b[0m\u001b[0m\n\u001b[1;32m   1745\u001b[0m       return self._build_call_outputs(self._inference_function.call(\n\u001b[0;32m-> 1746\u001b[0;31m           ctx, args, cancellation_manager=cancellation_manager))\n\u001b[0m\u001b[1;32m   1747\u001b[0m     forward_backward = self._select_forward_and_backward_functions(\n\u001b[1;32m   1748\u001b[0m         \u001b[0margs\u001b[0m\u001b[0;34m,\u001b[0m\u001b[0;34m\u001b[0m\u001b[0;34m\u001b[0m\u001b[0m\n",
            "\u001b[0;32m/usr/local/lib/python3.6/dist-packages/tensorflow/python/eager/function.py\u001b[0m in \u001b[0;36mcall\u001b[0;34m(self, ctx, args, cancellation_manager)\u001b[0m\n\u001b[1;32m    596\u001b[0m               \u001b[0minputs\u001b[0m\u001b[0;34m=\u001b[0m\u001b[0margs\u001b[0m\u001b[0;34m,\u001b[0m\u001b[0;34m\u001b[0m\u001b[0;34m\u001b[0m\u001b[0m\n\u001b[1;32m    597\u001b[0m               \u001b[0mattrs\u001b[0m\u001b[0;34m=\u001b[0m\u001b[0mattrs\u001b[0m\u001b[0;34m,\u001b[0m\u001b[0;34m\u001b[0m\u001b[0;34m\u001b[0m\u001b[0m\n\u001b[0;32m--> 598\u001b[0;31m               ctx=ctx)\n\u001b[0m\u001b[1;32m    599\u001b[0m         \u001b[0;32melse\u001b[0m\u001b[0;34m:\u001b[0m\u001b[0;34m\u001b[0m\u001b[0;34m\u001b[0m\u001b[0m\n\u001b[1;32m    600\u001b[0m           outputs = execute.execute_with_cancellation(\n",
            "\u001b[0;32m/usr/local/lib/python3.6/dist-packages/tensorflow/python/eager/execute.py\u001b[0m in \u001b[0;36mquick_execute\u001b[0;34m(op_name, num_outputs, inputs, attrs, ctx, name)\u001b[0m\n\u001b[1;32m     58\u001b[0m     \u001b[0mctx\u001b[0m\u001b[0;34m.\u001b[0m\u001b[0mensure_initialized\u001b[0m\u001b[0;34m(\u001b[0m\u001b[0;34m)\u001b[0m\u001b[0;34m\u001b[0m\u001b[0;34m\u001b[0m\u001b[0m\n\u001b[1;32m     59\u001b[0m     tensors = pywrap_tfe.TFE_Py_Execute(ctx._handle, device_name, op_name,\n\u001b[0;32m---> 60\u001b[0;31m                                         inputs, attrs, num_outputs)\n\u001b[0m\u001b[1;32m     61\u001b[0m   \u001b[0;32mexcept\u001b[0m \u001b[0mcore\u001b[0m\u001b[0;34m.\u001b[0m\u001b[0m_NotOkStatusException\u001b[0m \u001b[0;32mas\u001b[0m \u001b[0me\u001b[0m\u001b[0;34m:\u001b[0m\u001b[0;34m\u001b[0m\u001b[0;34m\u001b[0m\u001b[0m\n\u001b[1;32m     62\u001b[0m     \u001b[0;32mif\u001b[0m \u001b[0mname\u001b[0m \u001b[0;32mis\u001b[0m \u001b[0;32mnot\u001b[0m \u001b[0;32mNone\u001b[0m\u001b[0;34m:\u001b[0m\u001b[0;34m\u001b[0m\u001b[0;34m\u001b[0m\u001b[0m\n",
            "\u001b[0;31mKeyboardInterrupt\u001b[0m: "
          ]
        }
      ]
    },
    {
      "cell_type": "markdown",
      "metadata": {
        "id": "oFRcay2HPH3e",
        "colab_type": "text"
      },
      "source": [
        "### Model summary"
      ]
    },
    {
      "cell_type": "code",
      "metadata": {
        "id": "l8sw063nMgnP",
        "colab_type": "code",
        "outputId": "4e0cb86f-db5b-44c4-f83e-ed2a93c6ccc1",
        "colab": {
          "base_uri": "https://localhost:8080/",
          "height": 876
        }
      },
      "source": [
        "model.summary() # print model summary"
      ],
      "execution_count": 23,
      "outputs": [
        {
          "output_type": "stream",
          "text": [
            "Model: \"sequential_3\"\n",
            "_________________________________________________________________\n",
            "Layer (type)                 Output Shape              Param #   \n",
            "=================================================================\n",
            "encoder_conv0_0 (Conv2D)     (None, 32, 32, 10)        280       \n",
            "_________________________________________________________________\n",
            "encoder_relu0_0 (ReLU)       (None, 32, 32, 10)        0         \n",
            "_________________________________________________________________\n",
            "encoder_maxpool0 (MaxPooling (None, 16, 16, 10)        0         \n",
            "_________________________________________________________________\n",
            "encoder_conv1_0 (Conv2D)     (None, 16, 16, 20)        1820      \n",
            "_________________________________________________________________\n",
            "encoder_relu1_0 (ReLU)       (None, 16, 16, 20)        0         \n",
            "_________________________________________________________________\n",
            "encoder_maxpool1 (MaxPooling (None, 8, 8, 20)          0         \n",
            "_________________________________________________________________\n",
            "encoder_conv2_0 (Conv2D)     (None, 8, 8, 40)          7240      \n",
            "_________________________________________________________________\n",
            "encoder_relu2_0 (ReLU)       (None, 8, 8, 40)          0         \n",
            "_________________________________________________________________\n",
            "encoder_maxpool2 (MaxPooling (None, 4, 4, 40)          0         \n",
            "_________________________________________________________________\n",
            "decoder_conv2_0 (Conv2D)     (None, 4, 4, 40)          14440     \n",
            "_________________________________________________________________\n",
            "decoder_relu2_0 (ReLU)       (None, 4, 4, 40)          0         \n",
            "_________________________________________________________________\n",
            "decoder_upsampling2 (UpSampl (None, 8, 8, 40)          0         \n",
            "_________________________________________________________________\n",
            "decoder_conv1_0 (Conv2D)     (None, 8, 8, 20)          7220      \n",
            "_________________________________________________________________\n",
            "decoder_relu1_0 (ReLU)       (None, 8, 8, 20)          0         \n",
            "_________________________________________________________________\n",
            "decoder_upsampling1 (UpSampl (None, 16, 16, 20)        0         \n",
            "_________________________________________________________________\n",
            "decoder_conv0_0 (Conv2D)     (None, 16, 16, 10)        1810      \n",
            "_________________________________________________________________\n",
            "decoder_relu0_0 (ReLU)       (None, 16, 16, 10)        0         \n",
            "_________________________________________________________________\n",
            "decoder_upsampling0 (UpSampl (None, 32, 32, 10)        0         \n",
            "_________________________________________________________________\n",
            "final_conv (Conv2D)          (None, 32, 32, 3)         273       \n",
            "=================================================================\n",
            "Total params: 33,083\n",
            "Trainable params: 33,083\n",
            "Non-trainable params: 0\n",
            "_________________________________________________________________\n"
          ],
          "name": "stdout"
        }
      ]
    },
    {
      "cell_type": "markdown",
      "metadata": {
        "id": "cc_SxtpF-YQ3",
        "colab_type": "text"
      },
      "source": [
        "### Loss history"
      ]
    },
    {
      "cell_type": "code",
      "metadata": {
        "id": "SGMsOrp0-X0Q",
        "colab_type": "code",
        "outputId": "3de48bee-bc5a-4ec7-aa6b-2ae409e67eeb",
        "colab": {
          "base_uri": "https://localhost:8080/",
          "height": 284
        }
      },
      "source": [
        "plt.plot(loss_history) # plot loss history\n",
        "plt.plot(val_loss_history)"
      ],
      "execution_count": 24,
      "outputs": [
        {
          "output_type": "execute_result",
          "data": {
            "text/plain": [
              "[<matplotlib.lines.Line2D at 0x7f1605a43be0>]"
            ]
          },
          "metadata": {
            "tags": []
          },
          "execution_count": 24
        },
        {
          "output_type": "display_data",
          "data": {
            "image/png": "[encoded data removed]",
            "text/plain": [
              "<Figure size 432x288 with 1 Axes>"
            ]
          },
          "metadata": {
            "tags": [],
            "needs_background": "light"
          }
        }
      ]
    },
    {
      "cell_type": "markdown",
      "metadata": {
        "id": "4ie1gdDpXSq9",
        "colab_type": "text"
      },
      "source": [
        "### Results"
      ]
    },
    {
      "cell_type": "code",
      "metadata": {
        "id": "LPF_hL4w9cKY",
        "colab_type": "code",
        "outputId": "cc45befa-9f3f-4c34-a975-7ce6b7455fb9",
        "colab": {
          "base_uri": "https://localhost:8080/",
          "height": 285
        }
      },
      "source": [
        "plt.imshow(val_images[2]) # sample image"
      ],
      "execution_count": 25,
      "outputs": [
        {
          "output_type": "execute_result",
          "data": {
            "text/plain": [
              "<matplotlib.image.AxesImage at 0x7f1605a20f28>"
            ]
          },
          "metadata": {
            "tags": []
          },
          "execution_count": 25
        },
        {
          "output_type": "display_data",
          "data": {
            "image/png": "[encoded data removed]",
            "text/plain": [
              "<Figure size 432x288 with 1 Axes>"
            ]
          },
          "metadata": {
            "tags": [],
            "needs_background": "light"
          }
        }
      ]
    },
    {
      "cell_type": "code",
      "metadata": {
        "id": "GRdW0VHWIGUZ",
        "colab_type": "code",
        "outputId": "cafccd25-f8e2-4a84-f08c-adf2456ad17c",
        "colab": {
          "base_uri": "https://localhost:8080/",
          "height": 324
        }
      },
      "source": [
        "plt.imshow(val_noisy_images[2]) # sample noisy image"
      ],
      "execution_count": 26,
      "outputs": [
        {
          "output_type": "stream",
          "text": [
            "Clipping input data to the valid range for imshow with RGB data ([0..1] for floats or [0..255] for integers).\n"
          ],
          "name": "stderr"
        },
        {
          "output_type": "execute_result",
          "data": {
            "text/plain": [
              "<matplotlib.image.AxesImage at 0x7f1605980c88>"
            ]
          },
          "metadata": {
            "tags": []
          },
          "execution_count": 26
        },
        {
          "output_type": "display_data",
          "data": {
            "image/png": "[encoded data removed]",
            "text/plain": [
              "<Figure size 432x288 with 1 Axes>"
            ]
          },
          "metadata": {
            "tags": [],
            "needs_background": "light"
          }
        }
      ]
    },
    {
      "cell_type": "code",
      "metadata": {
        "id": "AI8ScxdyXSU5",
        "colab_type": "code",
        "outputId": "91aa1a33-57ad-4b54-d4d9-8d5796df90a0",
        "colab": {
          "base_uri": "https://localhost:8080/",
          "height": 285
        }
      },
      "source": [
        "[pred] = model.predict(val_noisy_images_downscaled[2:3]) # pass a barch through the network\n",
        "pred = np.array(np.rint(pred), dtype=int) # create denoised image\n",
        "pred = np.where(pred > 255, 255, pred) # filter out too large values\n",
        "pred = np.where(pred < 0, 0, pred) # filter out negative values\n",
        "plt.imshow(pred) # show filtered image"
      ],
      "execution_count": 27,
      "outputs": [
        {
          "output_type": "execute_result",
          "data": {
            "text/plain": [
              "<matplotlib.image.AxesImage at 0x7f160590db70>"
            ]
          },
          "metadata": {
            "tags": []
          },
          "execution_count": 27
        },
        {
          "output_type": "display_data",
          "data": {
            "image/png": "[encoded data removed]",
            "text/plain": [
              "<Figure size 432x288 with 1 Axes>"
            ]
          },
          "metadata": {
            "tags": [],
            "needs_background": "light"
          }
        }
      ]
    },
    {
      "cell_type": "code",
      "metadata": {
        "id": "xsY-YGHUftnJ",
        "colab_type": "code",
        "colab": {}
      },
      "source": [
        ""
      ],
      "execution_count": 0,
      "outputs": []
    }
  ]
}
