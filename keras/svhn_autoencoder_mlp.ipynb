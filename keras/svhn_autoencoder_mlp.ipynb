{
  "nbformat": 4,
  "nbformat_minor": 0,
  "metadata": {
    "colab": {
      "name": "autoencoder_mlp.ipynb",
      "provenance": [],
      "collapsed_sections": [],
      "toc_visible": true,
      "machine_shape": "hm"
    },
    "kernelspec": {
      "name": "python3",
      "display_name": "Python 3"
    },
    "accelerator": "TPU"
  },
  "cells": [
    {
      "cell_type": "markdown",
      "metadata": {
        "id": "UW6il0pxeMWQ",
        "colab_type": "text"
      },
      "source": [
        "# Denoising autoencoder -- MLP implementation"
      ]
    },
    {
      "cell_type": "markdown",
      "metadata": {
        "id": "sA0lXBhqeUVI",
        "colab_type": "text"
      },
      "source": [
        "### Download data"
      ]
    },
    {
      "cell_type": "code",
      "metadata": {
        "id": "XitskwNJbwWN",
        "colab_type": "code",
        "outputId": "1e0c05ef-9b5a-4655-83df-ddc308b877fe",
        "colab": {
          "base_uri": "https://localhost:8080/",
          "height": 222
        }
      },
      "source": [
        "!wget -O SVHN.mat http://ufldl.stanford.edu/housenumbers/train_32x32.mat # download SVHN dataset\n",
        "!mkdir datasets # create dataset dir\n",
        "!mv SVHN.mat datasets # move SVHN data to dataset dir"
      ],
      "execution_count": 3,
      "outputs": [
        {
          "output_type": "stream",
          "text": [
            "--2020-05-15 21:13:09--  http://ufldl.stanford.edu/housenumbers/train_32x32.mat\n",
            "Resolving ufldl.stanford.edu (ufldl.stanford.edu)... 171.64.68.10\n",
            "Connecting to ufldl.stanford.edu (ufldl.stanford.edu)|171.64.68.10|:80... connected.\n",
            "HTTP request sent, awaiting response... 200 OK\n",
            "Length: 182040794 (174M) [text/plain]\n",
            "Saving to: ‘SVHN.mat’\n",
            "\n",
            "SVHN.mat            100%[===================>] 173.61M  53.9MB/s    in 4.4s    \n",
            "\n",
            "2020-05-15 21:13:13 (39.5 MB/s) - ‘SVHN.mat’ saved [182040794/182040794]\n",
            "\n"
          ],
          "name": "stdout"
        }
      ]
    },
    {
      "cell_type": "markdown",
      "metadata": {
        "id": "jMxl_cYJebGc",
        "colab_type": "text"
      },
      "source": [
        "### Imports"
      ]
    },
    {
      "cell_type": "code",
      "metadata": {
        "id": "iqv6qPkib1od",
        "colab_type": "code",
        "colab": {}
      },
      "source": [
        "import numpy as np # numpy for matrix operations\n",
        "import math # math for mathematical operations\n",
        "import scipy.io # scipy for loading data\n",
        "\n",
        "# keras layers\n",
        "from keras.models import Sequential\n",
        "from keras.layers import Conv2D, MaxPooling2D, UpSampling2D, ReLU\n",
        "from keras.losses import MSE\n",
        "from keras import regularizers"
      ],
      "execution_count": 0,
      "outputs": []
    },
    {
      "cell_type": "markdown",
      "metadata": {
        "id": "dMfYOEoZ_Oqa",
        "colab_type": "text"
      },
      "source": [
        "### Read images"
      ]
    },
    {
      "cell_type": "code",
      "metadata": {
        "id": "33q84gmAdQpF",
        "colab_type": "code",
        "outputId": "1660c7ec-49fe-4c0b-f839-ac64072a164a",
        "colab": {
          "base_uri": "https://localhost:8080/",
          "height": 285
        }
      },
      "source": [
        "images = np.rollaxis(np.array(scipy.io.loadmat(\"datasets/SVHN.mat\")['X']), axis = 3, start=0) #read and reshape images\n",
        "plt.imshow(images[8]) # show sample image"
      ],
      "execution_count": 13,
      "outputs": [
        {
          "output_type": "execute_result",
          "data": {
            "text/plain": [
              "<matplotlib.image.AxesImage at 0x7feda73d4588>"
            ]
          },
          "metadata": {
            "tags": []
          },
          "execution_count": 13
        },
        {
          "output_type": "display_data",
          "data": {
            "image/png": "[encoded data removed]",
            "text/plain": [
              "<Figure size 432x288 with 1 Axes>"
            ]
          },
          "metadata": {
            "tags": [],
            "needs_background": "light"
          }
        }
      ]
    },
    {
      "cell_type": "markdown",
      "metadata": {
        "id": "mpZa-r1PEeEs",
        "colab_type": "text"
      },
      "source": [
        "### Create noisy images"
      ]
    },
    {
      "cell_type": "code",
      "metadata": {
        "id": "kU7OIE5VAvAl",
        "colab_type": "code",
        "outputId": "4f5a1e3a-130e-4cad-98e7-450654296baf",
        "colab": {
          "base_uri": "https://localhost:8080/",
          "height": 285
        }
      },
      "source": [
        "noise = np.random.binomial(400, 0.5, images.shape)-200 # generate gaussian noise\n",
        "noisy_images = images + noise # add noise to data\n",
        "plt.imshow(noisy_images[8]) # show sample noisy image"
      ],
      "execution_count": 14,
      "outputs": [
        {
          "output_type": "execute_result",
          "data": {
            "text/plain": [
              "<matplotlib.image.AxesImage at 0x7feda73b1278>"
            ]
          },
          "metadata": {
            "tags": []
          },
          "execution_count": 14
        },
        {
          "output_type": "display_data",
          "data": {
            "image/png": "[encoded data removed]",
            "text/plain": [
              "<Figure size 432x288 with 1 Axes>"
            ]
          },
          "metadata": {
            "tags": [],
            "needs_background": "light"
          }
        }
      ]
    },
    {
      "cell_type": "markdown",
      "metadata": {
        "id": "1pdSnyLe2NqR",
        "colab_type": "text"
      },
      "source": [
        "### Add salt/pepper noise"
      ]
    },
    {
      "cell_type": "code",
      "metadata": {
        "id": "VMW6jUXr2NKp",
        "colab_type": "code",
        "outputId": "16185bc1-d785-40e7-f393-69025514edf0",
        "colab": {
          "base_uri": "https://localhost:8080/",
          "height": 324
        }
      },
      "source": [
        "mask = np.random.randint(0,1000,size=noisy_images.shape).astype(np.bool) # generate pepper noise\n",
        "noisy_images *= mask # add pepper noise\n",
        "\n",
        "noisy_images = 255-noisy_images # invert image\n",
        "\n",
        "mask = np.random.randint(0,1000,size=noisy_images.shape).astype(np.bool) # repeat for salt noise\n",
        "noisy_images *= mask\n",
        "\n",
        "noisy_images = 255-noisy_images # invert again\n",
        "\n",
        "plt.imshow(noisy_images[0]) # show image"
      ],
      "execution_count": 15,
      "outputs": [
        {
          "output_type": "stream",
          "text": [
            "Clipping input data to the valid range for imshow with RGB data ([0..1] for floats or [0..255] for integers).\n"
          ],
          "name": "stderr"
        },
        {
          "output_type": "execute_result",
          "data": {
            "text/plain": [
              "<matplotlib.image.AxesImage at 0x7feda73886a0>"
            ]
          },
          "metadata": {
            "tags": []
          },
          "execution_count": 15
        },
        {
          "output_type": "display_data",
          "data": {
            "image/png": "[encoded data removed]",
            "text/plain": [
              "<Figure size 432x288 with 1 Axes>"
            ]
          },
          "metadata": {
            "tags": [],
            "needs_background": "light"
          }
        }
      ]
    },
    {
      "cell_type": "markdown",
      "metadata": {
        "id": "f4s5GvigETmF",
        "colab_type": "text"
      },
      "source": [
        "### Split dataset"
      ]
    },
    {
      "cell_type": "code",
      "metadata": {
        "colab_type": "code",
        "id": "PJI7-L0P8eFI",
        "colab": {}
      },
      "source": [
        "split = math.floor(0.9*len(images)) # split dataset to train and val\n",
        "\n",
        "val_images = images[split:]\n",
        "val_noisy_images = noisy_images[split:]\n",
        "\n",
        "images = images[:split]\n",
        "noisy_images = noisy_images[:split]"
      ],
      "execution_count": 0,
      "outputs": []
    },
    {
      "cell_type": "markdown",
      "metadata": {
        "id": "G1Xglpg9aicD",
        "colab_type": "text"
      },
      "source": [
        "### Normalize data"
      ]
    },
    {
      "cell_type": "code",
      "metadata": {
        "id": "NbFlkrw_ah-E",
        "colab_type": "code",
        "colab": {}
      },
      "source": [
        "avg = np.average(noisy_images) # calculate mean\n",
        "std = np.std(noisy_images) # calculate std\n",
        "\n",
        "noisy_images_downscaled  = (noisy_images - avg) / std # normalize data (standard norm.)\n",
        "val_noisy_images_downscaled = (val_noisy_images - avg) / std"
      ],
      "execution_count": 0,
      "outputs": []
    },
    {
      "cell_type": "markdown",
      "metadata": {
        "id": "lOufPsZZ7r7s",
        "colab_type": "text"
      },
      "source": [
        "### Define model"
      ]
    },
    {
      "cell_type": "code",
      "metadata": {
        "id": "RNAj2Fdv7sRb",
        "colab_type": "code",
        "colab": {}
      },
      "source": [
        "class Autoencoder():\n",
        "   \n",
        "    def __init__(self, levels, layers, thickness, n):\n",
        "        super(Autoencoder, self).__init__()\n",
        "        self.levels = levels\n",
        "        self.layers = layers\n",
        "        self.n = n\n",
        "        self.thickness = thickness\n",
        "        self.__built = False\n",
        "\n",
        "    def __build(self, X):\n",
        "        self.__model = Sequential()\n",
        "        self.__model.add(Flatten())\n",
        "        for level in range(self.levels):\n",
        "            for layer in range(self.layers):\n",
        "                if level == 0 and layer == 0:\n",
        "                    self.__model.add(Dense(2**(8-level), input_shape=X.shape[1:4], name=f\"encoder_dense{level}_{layer}\", kernel_regularizer=regularizers.l2(1e-6), bias_regularizer=regularizers.l2(1e-6)))\n",
        "                else:\n",
        "                    self.__model.add(Dense(2**(8-level), name=f\"encoder_dense{level}_{layer}\"))\n",
        "        for level in reversed(range(self.levels)):\n",
        "            for layer in range(self.layers):\n",
        "                self.__model.add(Dense(2**(8-level), name=f\"decoder_dense{level}_{layer}\", kernel_regularizer=regularizers.l2(1e-6), bias_regularizer=regularizers.l2(1e-6)))\n",
        "        self.__model.add(Dense(32*32*3, name=\"final_dense\"))\n",
        "        self.__model.add(Reshape(target_shape=(32, 32, 3)))\n",
        "        self.__model.compile(loss=['mse'], optimizer=\"adam\")\n",
        "        self.__built = True\n",
        "\n",
        "    def forward(self, X, Y_target):\n",
        "        if not self.__built:\n",
        "            self.__build(X)\n",
        "        loss = self.__model.train_on_batch(X, Y_target)\n",
        "        return loss\n",
        "    \n",
        "    def summary(self):\n",
        "        assert self.__built, \"Build model first by passing a tensor to it.\"\n",
        "        self.__model.summary()\n",
        "    \n",
        "    def predict(self, X):\n",
        "        return self.__model.predict(X)\n",
        "\n",
        "    def trainable(self, val):\n",
        "        if not self.__built:\n",
        "            self.__build(X)\n",
        "        for layer in self.__model.layers:\n",
        "            layer.trainable = val\n"
      ],
      "execution_count": 0,
      "outputs": []
    },
    {
      "cell_type": "markdown",
      "metadata": {
        "id": "jY9TyUrN4Pdr",
        "colab_type": "text"
      },
      "source": [
        "### Train model\n",
        "Results can be achieved in about 30 minutes."
      ]
    },
    {
      "cell_type": "code",
      "metadata": {
        "id": "L4-onG1H4Njo",
        "colab_type": "code",
        "outputId": "57ab15a1-d40c-4b51-9414-f721e41c16b2",
        "colab": {
          "base_uri": "https://localhost:8080/",
          "height": 982
        }
      },
      "source": [
        "model = Autoencoder(levels = 3, layers = 1, thickness = 2, n = 3) # create model\n",
        "epochs = 200 #  number of epochs\n",
        "batch_size = 12 # batch size for mini-batching\n",
        "lr = 0.0000001 # learning rate\n",
        "\n",
        "\n",
        "loss_history = []\n",
        "val_loss_history = []\n",
        "\n",
        "batches = math.ceil(images.shape[0] / batch_size) # calculate number of batches\n",
        "val_batches = math.ceil(val_images.shape[0] / batch_size)\n",
        "\n",
        "for e in range(epochs):\n",
        "    loss_total = 0\n",
        "    for b in range(batches): # pass all batches through the network\n",
        "        # before forward step, create the input and target batches\n",
        "        X = noisy_images_downscaled[batch_size*b:batch_size*(b+1)]\n",
        "        Y_target = images[batch_size*b:batch_size*(b+1)]\n",
        "        \n",
        "        model.trainable(True) # enable training\n",
        "        loss = model.forward(X, Y_target) # forward step\n",
        "\n",
        "        loss_total += loss\n",
        "\n",
        "    loss_avg = loss_total / (batches*batch_size) # calculate avg loss\n",
        "    loss_history.append(loss_avg)\n",
        "    print(f\"epoch {e} -- loss: {loss_avg}\", end=\"\")\n",
        "\n",
        "    val_loss_total = 0\n",
        "    for b in range(val_batches): # repeat for the val dataset\n",
        "        X = val_noisy_images_downscaled[batch_size*b:batch_size*(b+1)]\n",
        "        Y_target = val_images[batch_size*b:batch_size*(b+1)]\n",
        "\n",
        "        model.trainable(False)\n",
        "        val_loss = model.forward(X, Y_target)\n",
        "\n",
        "        val_loss_total += val_loss\n",
        "\n",
        "    val_loss_avg = val_loss_total / (val_batches*batch_size)\n",
        "    val_loss_history.append(val_loss_avg)\n",
        "    print(f\" -- val_loss: {val_loss_avg}\")\n"
      ],
      "execution_count": 19,
      "outputs": [
        {
          "output_type": "stream",
          "text": [
            "epoch 0 -- loss: 136.23077816834478"
          ],
          "name": "stdout"
        },
        {
          "output_type": "stream",
          "text": [
            "/usr/local/lib/python3.6/dist-packages/keras/engine/training.py:297: UserWarning: Discrepancy between trainable weights and collected trainable weights, did you set `model.trainable` without calling `model.compile` after ?\n",
            "  'Discrepancy between trainable weights and collected trainable'\n"
          ],
          "name": "stderr"
        },
        {
          "output_type": "stream",
          "text": [
            " -- val_loss: 25.2671391226461\n",
            "epoch 1 -- loss: 32.516309047880625 -- val_loss: 20.504461682824832\n",
            "epoch 2 -- loss: 21.03351596419219 -- val_loss: 16.05327359328033\n",
            "epoch 3 -- loss: 17.069331601333502 -- val_loss: 14.50557237938331\n",
            "epoch 4 -- loss: 15.397558980194916 -- val_loss: 13.707248088380904\n",
            "epoch 5 -- loss: 14.474121370856459 -- val_loss: 13.302283851552778\n",
            "epoch 6 -- loss: 13.598189610454362 -- val_loss: 12.857625705845942\n",
            "epoch 7 -- loss: 13.08286421147845 -- val_loss: 12.582032457571243\n",
            "epoch 8 -- loss: 12.637368132498976 -- val_loss: 12.380331882283262\n",
            "epoch 9 -- loss: 12.259882108898355 -- val_loss: 12.052202715356039\n",
            "epoch 10 -- loss: 12.169494433572229 -- val_loss: 11.833945884642157\n",
            "epoch 11 -- loss: 12.066072612319312 -- val_loss: 12.090176751427617\n",
            "epoch 12 -- loss: 11.98855420775872 -- val_loss: 11.547266121451736\n",
            "epoch 13 -- loss: 11.966232868277885 -- val_loss: 11.4582347817845\n",
            "epoch 14 -- loss: 11.917062346458724 -- val_loss: 11.41409824015466\n",
            "epoch 15 -- loss: 11.874412276378212 -- val_loss: 12.140902827232182\n",
            "epoch 16 -- loss: 11.946334793454124 -- val_loss: 11.358895645724315\n",
            "epoch 17 -- loss: 11.834005831167993 -- val_loss: 11.438804608255023\n",
            "epoch 18 -- loss: 11.953481832995427 -- val_loss: 11.262160476022773\n",
            "epoch 19 -- loss: 11.770401508445843 -- val_loss: 11.709202275793864\n",
            "epoch 20 -- loss: 11.728248382836789 -- val_loss: 11.618542269026719\n",
            "epoch 21 -- loss: 11.684720222350501 -- val_loss: 11.249073094640087\n",
            "epoch 22 -- loss: 11.740215060737663 -- val_loss: 11.335714538436864\n",
            "epoch 23 -- loss: 11.669061358755272 -- val_loss: 11.468852270514471\n",
            "epoch 24 -- loss: 11.638448008675267 -- val_loss: 11.414407843523707\n",
            "epoch 25 -- loss: 12.275525982711834 -- val_loss: 10.727155698171678\n",
            "epoch 26 -- loss: 11.50391708966418 -- val_loss: 11.451088463616253\n",
            "epoch 27 -- loss: 11.652596642734572 -- val_loss: 11.590092209474154\n"
          ],
          "name": "stdout"
        },
        {
          "output_type": "error",
          "ename": "KeyboardInterrupt",
          "evalue": "ignored",
          "traceback": [
            "\u001b[0;31m---------------------------------------------------------------------------\u001b[0m",
            "\u001b[0;31mKeyboardInterrupt\u001b[0m                         Traceback (most recent call last)",
            "\u001b[0;32m<ipython-input-19-1a2ea058dffd>\u001b[0m in \u001b[0;36m<module>\u001b[0;34m()\u001b[0m\n\u001b[1;32m     17\u001b[0m \u001b[0;34m\u001b[0m\u001b[0m\n\u001b[1;32m     18\u001b[0m         \u001b[0mmodel\u001b[0m\u001b[0;34m.\u001b[0m\u001b[0mtrainable\u001b[0m\u001b[0;34m(\u001b[0m\u001b[0;32mTrue\u001b[0m\u001b[0;34m)\u001b[0m\u001b[0;34m\u001b[0m\u001b[0;34m\u001b[0m\u001b[0m\n\u001b[0;32m---> 19\u001b[0;31m         \u001b[0mloss\u001b[0m \u001b[0;34m=\u001b[0m \u001b[0mmodel\u001b[0m\u001b[0;34m.\u001b[0m\u001b[0mforward\u001b[0m\u001b[0;34m(\u001b[0m\u001b[0mX\u001b[0m\u001b[0;34m,\u001b[0m \u001b[0mY_target\u001b[0m\u001b[0;34m)\u001b[0m\u001b[0;34m\u001b[0m\u001b[0;34m\u001b[0m\u001b[0m\n\u001b[0m\u001b[1;32m     20\u001b[0m \u001b[0;34m\u001b[0m\u001b[0m\n\u001b[1;32m     21\u001b[0m         \u001b[0mloss_total\u001b[0m \u001b[0;34m+=\u001b[0m \u001b[0mloss\u001b[0m\u001b[0;34m\u001b[0m\u001b[0;34m\u001b[0m\u001b[0m\n",
            "\u001b[0;32m<ipython-input-18-d1049f3b1e28>\u001b[0m in \u001b[0;36mforward\u001b[0;34m(self, X, Y_target)\u001b[0m\n\u001b[1;32m     29\u001b[0m         \u001b[0;32mif\u001b[0m \u001b[0;32mnot\u001b[0m \u001b[0mself\u001b[0m\u001b[0;34m.\u001b[0m\u001b[0m__built\u001b[0m\u001b[0;34m:\u001b[0m\u001b[0;34m\u001b[0m\u001b[0;34m\u001b[0m\u001b[0m\n\u001b[1;32m     30\u001b[0m             \u001b[0mself\u001b[0m\u001b[0;34m.\u001b[0m\u001b[0m__build\u001b[0m\u001b[0;34m(\u001b[0m\u001b[0mX\u001b[0m\u001b[0;34m)\u001b[0m\u001b[0;34m\u001b[0m\u001b[0;34m\u001b[0m\u001b[0m\n\u001b[0;32m---> 31\u001b[0;31m         \u001b[0mloss\u001b[0m \u001b[0;34m=\u001b[0m \u001b[0mself\u001b[0m\u001b[0;34m.\u001b[0m\u001b[0m__model\u001b[0m\u001b[0;34m.\u001b[0m\u001b[0mtrain_on_batch\u001b[0m\u001b[0;34m(\u001b[0m\u001b[0mX\u001b[0m\u001b[0;34m,\u001b[0m \u001b[0mY_target\u001b[0m\u001b[0;34m)\u001b[0m\u001b[0;34m\u001b[0m\u001b[0;34m\u001b[0m\u001b[0m\n\u001b[0m\u001b[1;32m     32\u001b[0m         \u001b[0;32mreturn\u001b[0m \u001b[0mloss\u001b[0m\u001b[0;34m\u001b[0m\u001b[0;34m\u001b[0m\u001b[0m\n\u001b[1;32m     33\u001b[0m \u001b[0;34m\u001b[0m\u001b[0m\n",
            "\u001b[0;32m/usr/local/lib/python3.6/dist-packages/keras/engine/training.py\u001b[0m in \u001b[0;36mtrain_on_batch\u001b[0;34m(self, x, y, sample_weight, class_weight, reset_metrics)\u001b[0m\n\u001b[1;32m   1512\u001b[0m             \u001b[0mins\u001b[0m \u001b[0;34m=\u001b[0m \u001b[0mx\u001b[0m \u001b[0;34m+\u001b[0m \u001b[0my\u001b[0m \u001b[0;34m+\u001b[0m \u001b[0msample_weights\u001b[0m\u001b[0;34m\u001b[0m\u001b[0;34m\u001b[0m\u001b[0m\n\u001b[1;32m   1513\u001b[0m         \u001b[0mself\u001b[0m\u001b[0;34m.\u001b[0m\u001b[0m_make_train_function\u001b[0m\u001b[0;34m(\u001b[0m\u001b[0;34m)\u001b[0m\u001b[0;34m\u001b[0m\u001b[0;34m\u001b[0m\u001b[0m\n\u001b[0;32m-> 1514\u001b[0;31m         \u001b[0moutputs\u001b[0m \u001b[0;34m=\u001b[0m \u001b[0mself\u001b[0m\u001b[0;34m.\u001b[0m\u001b[0mtrain_function\u001b[0m\u001b[0;34m(\u001b[0m\u001b[0mins\u001b[0m\u001b[0;34m)\u001b[0m\u001b[0;34m\u001b[0m\u001b[0;34m\u001b[0m\u001b[0m\n\u001b[0m\u001b[1;32m   1515\u001b[0m \u001b[0;34m\u001b[0m\u001b[0m\n\u001b[1;32m   1516\u001b[0m         \u001b[0;32mif\u001b[0m \u001b[0mreset_metrics\u001b[0m\u001b[0;34m:\u001b[0m\u001b[0;34m\u001b[0m\u001b[0;34m\u001b[0m\u001b[0m\n",
            "\u001b[0;32m/usr/local/lib/python3.6/dist-packages/tensorflow/python/keras/backend.py\u001b[0m in \u001b[0;36m__call__\u001b[0;34m(self, inputs)\u001b[0m\n\u001b[1;32m   3790\u001b[0m         \u001b[0mvalue\u001b[0m \u001b[0;34m=\u001b[0m \u001b[0mmath_ops\u001b[0m\u001b[0;34m.\u001b[0m\u001b[0mcast\u001b[0m\u001b[0;34m(\u001b[0m\u001b[0mvalue\u001b[0m\u001b[0;34m,\u001b[0m \u001b[0mtensor\u001b[0m\u001b[0;34m.\u001b[0m\u001b[0mdtype\u001b[0m\u001b[0;34m)\u001b[0m\u001b[0;34m\u001b[0m\u001b[0;34m\u001b[0m\u001b[0m\n\u001b[1;32m   3791\u001b[0m       \u001b[0mconverted_inputs\u001b[0m\u001b[0;34m.\u001b[0m\u001b[0mappend\u001b[0m\u001b[0;34m(\u001b[0m\u001b[0mvalue\u001b[0m\u001b[0;34m)\u001b[0m\u001b[0;34m\u001b[0m\u001b[0;34m\u001b[0m\u001b[0m\n\u001b[0;32m-> 3792\u001b[0;31m     \u001b[0moutputs\u001b[0m \u001b[0;34m=\u001b[0m \u001b[0mself\u001b[0m\u001b[0;34m.\u001b[0m\u001b[0m_graph_fn\u001b[0m\u001b[0;34m(\u001b[0m\u001b[0;34m*\u001b[0m\u001b[0mconverted_inputs\u001b[0m\u001b[0;34m)\u001b[0m\u001b[0;34m\u001b[0m\u001b[0;34m\u001b[0m\u001b[0m\n\u001b[0m\u001b[1;32m   3793\u001b[0m \u001b[0;34m\u001b[0m\u001b[0m\n\u001b[1;32m   3794\u001b[0m     \u001b[0;31m# EagerTensor.numpy() will often make a copy to ensure memory safety.\u001b[0m\u001b[0;34m\u001b[0m\u001b[0;34m\u001b[0m\u001b[0;34m\u001b[0m\u001b[0m\n",
            "\u001b[0;32m/usr/local/lib/python3.6/dist-packages/tensorflow/python/eager/function.py\u001b[0m in \u001b[0;36m__call__\u001b[0;34m(self, *args, **kwargs)\u001b[0m\n\u001b[1;32m   1603\u001b[0m       \u001b[0mTypeError\u001b[0m\u001b[0;34m:\u001b[0m \u001b[0mFor\u001b[0m \u001b[0minvalid\u001b[0m \u001b[0mpositional\u001b[0m\u001b[0;34m/\u001b[0m\u001b[0mkeyword\u001b[0m \u001b[0margument\u001b[0m \u001b[0mcombinations\u001b[0m\u001b[0;34m.\u001b[0m\u001b[0;34m\u001b[0m\u001b[0;34m\u001b[0m\u001b[0m\n\u001b[1;32m   1604\u001b[0m     \"\"\"\n\u001b[0;32m-> 1605\u001b[0;31m     \u001b[0;32mreturn\u001b[0m \u001b[0mself\u001b[0m\u001b[0;34m.\u001b[0m\u001b[0m_call_impl\u001b[0m\u001b[0;34m(\u001b[0m\u001b[0margs\u001b[0m\u001b[0;34m,\u001b[0m \u001b[0mkwargs\u001b[0m\u001b[0;34m)\u001b[0m\u001b[0;34m\u001b[0m\u001b[0;34m\u001b[0m\u001b[0m\n\u001b[0m\u001b[1;32m   1606\u001b[0m \u001b[0;34m\u001b[0m\u001b[0m\n\u001b[1;32m   1607\u001b[0m   \u001b[0;32mdef\u001b[0m \u001b[0m_call_impl\u001b[0m\u001b[0;34m(\u001b[0m\u001b[0mself\u001b[0m\u001b[0;34m,\u001b[0m \u001b[0margs\u001b[0m\u001b[0;34m,\u001b[0m \u001b[0mkwargs\u001b[0m\u001b[0;34m,\u001b[0m \u001b[0mcancellation_manager\u001b[0m\u001b[0;34m=\u001b[0m\u001b[0;32mNone\u001b[0m\u001b[0;34m)\u001b[0m\u001b[0;34m:\u001b[0m\u001b[0;34m\u001b[0m\u001b[0;34m\u001b[0m\u001b[0m\n",
            "\u001b[0;32m/usr/local/lib/python3.6/dist-packages/tensorflow/python/eager/function.py\u001b[0m in \u001b[0;36m_call_impl\u001b[0;34m(self, args, kwargs, cancellation_manager)\u001b[0m\n\u001b[1;32m   1643\u001b[0m       raise TypeError(\"Keyword arguments {} unknown. Expected {}.\".format(\n\u001b[1;32m   1644\u001b[0m           list(kwargs.keys()), list(self._arg_keywords)))\n\u001b[0;32m-> 1645\u001b[0;31m     \u001b[0;32mreturn\u001b[0m \u001b[0mself\u001b[0m\u001b[0;34m.\u001b[0m\u001b[0m_call_flat\u001b[0m\u001b[0;34m(\u001b[0m\u001b[0margs\u001b[0m\u001b[0;34m,\u001b[0m \u001b[0mself\u001b[0m\u001b[0;34m.\u001b[0m\u001b[0mcaptured_inputs\u001b[0m\u001b[0;34m,\u001b[0m \u001b[0mcancellation_manager\u001b[0m\u001b[0;34m)\u001b[0m\u001b[0;34m\u001b[0m\u001b[0;34m\u001b[0m\u001b[0m\n\u001b[0m\u001b[1;32m   1646\u001b[0m \u001b[0;34m\u001b[0m\u001b[0m\n\u001b[1;32m   1647\u001b[0m   \u001b[0;32mdef\u001b[0m \u001b[0m_filtered_call\u001b[0m\u001b[0;34m(\u001b[0m\u001b[0mself\u001b[0m\u001b[0;34m,\u001b[0m \u001b[0margs\u001b[0m\u001b[0;34m,\u001b[0m \u001b[0mkwargs\u001b[0m\u001b[0;34m)\u001b[0m\u001b[0;34m:\u001b[0m\u001b[0;34m\u001b[0m\u001b[0;34m\u001b[0m\u001b[0m\n",
            "\u001b[0;32m/usr/local/lib/python3.6/dist-packages/tensorflow/python/eager/function.py\u001b[0m in \u001b[0;36m_call_flat\u001b[0;34m(self, args, captured_inputs, cancellation_manager)\u001b[0m\n\u001b[1;32m   1744\u001b[0m       \u001b[0;31m# No tape is watching; skip to running the function.\u001b[0m\u001b[0;34m\u001b[0m\u001b[0;34m\u001b[0m\u001b[0;34m\u001b[0m\u001b[0m\n\u001b[1;32m   1745\u001b[0m       return self._build_call_outputs(self._inference_function.call(\n\u001b[0;32m-> 1746\u001b[0;31m           ctx, args, cancellation_manager=cancellation_manager))\n\u001b[0m\u001b[1;32m   1747\u001b[0m     forward_backward = self._select_forward_and_backward_functions(\n\u001b[1;32m   1748\u001b[0m         \u001b[0margs\u001b[0m\u001b[0;34m,\u001b[0m\u001b[0;34m\u001b[0m\u001b[0;34m\u001b[0m\u001b[0m\n",
            "\u001b[0;32m/usr/local/lib/python3.6/dist-packages/tensorflow/python/eager/function.py\u001b[0m in \u001b[0;36mcall\u001b[0;34m(self, ctx, args, cancellation_manager)\u001b[0m\n\u001b[1;32m    596\u001b[0m               \u001b[0minputs\u001b[0m\u001b[0;34m=\u001b[0m\u001b[0margs\u001b[0m\u001b[0;34m,\u001b[0m\u001b[0;34m\u001b[0m\u001b[0;34m\u001b[0m\u001b[0m\n\u001b[1;32m    597\u001b[0m               \u001b[0mattrs\u001b[0m\u001b[0;34m=\u001b[0m\u001b[0mattrs\u001b[0m\u001b[0;34m,\u001b[0m\u001b[0;34m\u001b[0m\u001b[0;34m\u001b[0m\u001b[0m\n\u001b[0;32m--> 598\u001b[0;31m               ctx=ctx)\n\u001b[0m\u001b[1;32m    599\u001b[0m         \u001b[0;32melse\u001b[0m\u001b[0;34m:\u001b[0m\u001b[0;34m\u001b[0m\u001b[0;34m\u001b[0m\u001b[0m\n\u001b[1;32m    600\u001b[0m           outputs = execute.execute_with_cancellation(\n",
            "\u001b[0;32m/usr/local/lib/python3.6/dist-packages/tensorflow/python/eager/execute.py\u001b[0m in \u001b[0;36mquick_execute\u001b[0;34m(op_name, num_outputs, inputs, attrs, ctx, name)\u001b[0m\n\u001b[1;32m     58\u001b[0m     \u001b[0mctx\u001b[0m\u001b[0;34m.\u001b[0m\u001b[0mensure_initialized\u001b[0m\u001b[0;34m(\u001b[0m\u001b[0;34m)\u001b[0m\u001b[0;34m\u001b[0m\u001b[0;34m\u001b[0m\u001b[0m\n\u001b[1;32m     59\u001b[0m     tensors = pywrap_tfe.TFE_Py_Execute(ctx._handle, device_name, op_name,\n\u001b[0;32m---> 60\u001b[0;31m                                         inputs, attrs, num_outputs)\n\u001b[0m\u001b[1;32m     61\u001b[0m   \u001b[0;32mexcept\u001b[0m \u001b[0mcore\u001b[0m\u001b[0;34m.\u001b[0m\u001b[0m_NotOkStatusException\u001b[0m \u001b[0;32mas\u001b[0m \u001b[0me\u001b[0m\u001b[0;34m:\u001b[0m\u001b[0;34m\u001b[0m\u001b[0;34m\u001b[0m\u001b[0m\n\u001b[1;32m     62\u001b[0m     \u001b[0;32mif\u001b[0m \u001b[0mname\u001b[0m \u001b[0;32mis\u001b[0m \u001b[0;32mnot\u001b[0m \u001b[0;32mNone\u001b[0m\u001b[0;34m:\u001b[0m\u001b[0;34m\u001b[0m\u001b[0;34m\u001b[0m\u001b[0m\n",
            "\u001b[0;31mKeyboardInterrupt\u001b[0m: "
          ]
        }
      ]
    },
    {
      "cell_type": "markdown",
      "metadata": {
        "id": "oFRcay2HPH3e",
        "colab_type": "text"
      },
      "source": [
        "### Model summary"
      ]
    },
    {
      "cell_type": "code",
      "metadata": {
        "id": "l8sw063nMgnP",
        "colab_type": "code",
        "outputId": "b0ba5b0e-befe-42f5-ffc0-0b32567025d5",
        "colab": {
          "base_uri": "https://localhost:8080/",
          "height": 502
        }
      },
      "source": [
        "model.summary() # print model summary"
      ],
      "execution_count": 20,
      "outputs": [
        {
          "output_type": "stream",
          "text": [
            "Model: \"sequential_2\"\n",
            "_________________________________________________________________\n",
            "Layer (type)                 Output Shape              Param #   \n",
            "=================================================================\n",
            "flatten_2 (Flatten)          (None, 3072)              0         \n",
            "_________________________________________________________________\n",
            "encoder_dense0_0 (Dense)     (None, 256)               786688    \n",
            "_________________________________________________________________\n",
            "encoder_dense1_0 (Dense)     (None, 128)               32896     \n",
            "_________________________________________________________________\n",
            "encoder_dense2_0 (Dense)     (None, 64)                8256      \n",
            "_________________________________________________________________\n",
            "decoder_dense2_0 (Dense)     (None, 64)                4160      \n",
            "_________________________________________________________________\n",
            "decoder_dense1_0 (Dense)     (None, 128)               8320      \n",
            "_________________________________________________________________\n",
            "decoder_dense0_0 (Dense)     (None, 256)               33024     \n",
            "_________________________________________________________________\n",
            "final_dense (Dense)          (None, 3072)              789504    \n",
            "_________________________________________________________________\n",
            "reshape_1 (Reshape)          (None, 32, 32, 3)         0         \n",
            "=================================================================\n",
            "Total params: 1,662,848\n",
            "Trainable params: 1,662,848\n",
            "Non-trainable params: 0\n",
            "_________________________________________________________________\n"
          ],
          "name": "stdout"
        }
      ]
    },
    {
      "cell_type": "code",
      "metadata": {
        "id": "SGMsOrp0-X0Q",
        "colab_type": "code",
        "outputId": "5d0d9d6f-ce0e-48c4-ec50-845eceb58f3a",
        "colab": {
          "base_uri": "https://localhost:8080/",
          "height": 284
        }
      },
      "source": [
        "plt.plot(loss_history) # plot loss history\n",
        "plt.plot(val_loss_history)"
      ],
      "execution_count": 21,
      "outputs": [
        {
          "output_type": "execute_result",
          "data": {
            "text/plain": [
              "[<matplotlib.lines.Line2D at 0x7fed67726588>]"
            ]
          },
          "metadata": {
            "tags": []
          },
          "execution_count": 21
        },
        {
          "output_type": "display_data",
          "data": {
            "image/png": "[encoded data removed]",
            "text/plain": [
              "<Figure size 432x288 with 1 Axes>"
            ]
          },
          "metadata": {
            "tags": [],
            "needs_background": "light"
          }
        }
      ]
    },
    {
      "cell_type": "markdown",
      "metadata": {
        "id": "4ie1gdDpXSq9",
        "colab_type": "text"
      },
      "source": [
        "### Results"
      ]
    },
    {
      "cell_type": "code",
      "metadata": {
        "id": "LPF_hL4w9cKY",
        "colab_type": "code",
        "outputId": "8a7654e7-2a1f-429f-8999-3ba6b8c1752c",
        "colab": {
          "base_uri": "https://localhost:8080/",
          "height": 285
        }
      },
      "source": [
        "plt.imshow(val_images[8]) # sample image"
      ],
      "execution_count": 22,
      "outputs": [
        {
          "output_type": "execute_result",
          "data": {
            "text/plain": [
              "<matplotlib.image.AxesImage at 0x7fed676aca90>"
            ]
          },
          "metadata": {
            "tags": []
          },
          "execution_count": 22
        },
        {
          "output_type": "display_data",
          "data": {
            "image/png": "[encoded data removed]",
            "text/plain": [
              "<Figure size 432x288 with 1 Axes>"
            ]
          },
          "metadata": {
            "tags": [],
            "needs_background": "light"
          }
        }
      ]
    },
    {
      "cell_type": "code",
      "metadata": {
        "id": "WwywYxawIJow",
        "colab_type": "code",
        "outputId": "e20a9b15-28d1-4ef3-b6e7-d875a3a8fed8",
        "colab": {
          "base_uri": "https://localhost:8080/",
          "height": 285
        }
      },
      "source": [
        "plt.imshow(val_noisy_images[8]) # sample noisy image"
      ],
      "execution_count": 23,
      "outputs": [
        {
          "output_type": "execute_result",
          "data": {
            "text/plain": [
              "<matplotlib.image.AxesImage at 0x7fed6760f828>"
            ]
          },
          "metadata": {
            "tags": []
          },
          "execution_count": 23
        },
        {
          "output_type": "display_data",
          "data": {
            "image/png": "[encoded data removed]",
            "text/plain": [
              "<Figure size 432x288 with 1 Axes>"
            ]
          },
          "metadata": {
            "tags": [],
            "needs_background": "light"
          }
        }
      ]
    },
    {
      "cell_type": "code",
      "metadata": {
        "id": "AI8ScxdyXSU5",
        "colab_type": "code",
        "outputId": "f452f012-db91-4644-ee62-4cb261521f1c",
        "colab": {
          "base_uri": "https://localhost:8080/",
          "height": 285
        }
      },
      "source": [
        "[pred] = model.predict(val_noisy_images_downscaled[8:9])\n",
        "pred = np.array(np.rint(pred), dtype=int) # create denoised image\n",
        "pred = np.where(pred > 255, 255, pred) # filter out too large values\n",
        "pred = np.where(pred < 0, 0, pred) # filter out negative values\n",
        "plt.imshow(pred) # show filtered image"
      ],
      "execution_count": 24,
      "outputs": [
        {
          "output_type": "execute_result",
          "data": {
            "text/plain": [
              "<matplotlib.image.AxesImage at 0x7fed675935c0>"
            ]
          },
          "metadata": {
            "tags": []
          },
          "execution_count": 24
        },
        {
          "output_type": "display_data",
          "data": {
            "image/png": "[encoded data removed]",
            "text/plain": [
              "<Figure size 432x288 with 1 Axes>"
            ]
          },
          "metadata": {
            "tags": [],
            "needs_background": "light"
          }
        }
      ]
    }
  ]
}
