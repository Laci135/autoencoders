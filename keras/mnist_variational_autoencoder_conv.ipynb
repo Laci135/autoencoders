{
  "nbformat": 4,
  "nbformat_minor": 0,
  "metadata": {
    "colab": {
      "name": "mnist_variational_autoencoder_conv.ipynb",
      "provenance": [],
      "collapsed_sections": [],
      "toc_visible": true,
      "machine_shape": "hm"
    },
    "kernelspec": {
      "name": "python3",
      "display_name": "Python 3"
    },
    "accelerator": "TPU"
  },
  "cells": [
    {
      "cell_type": "markdown",
      "metadata": {
        "id": "UW6il0pxeMWQ",
        "colab_type": "text"
      },
      "source": [
        "# VAE on the MNIST dataset"
      ]
    },
    {
      "cell_type": "markdown",
      "metadata": {
        "id": "sA0lXBhqeUVI",
        "colab_type": "text"
      },
      "source": [
        "### Download data"
      ]
    },
    {
      "cell_type": "code",
      "metadata": {
        "id": "TKWecLGXYH3Z",
        "colab_type": "code",
        "outputId": "469e9459-b35e-4094-e089-6013de45414e",
        "colab": {
          "base_uri": "https://localhost:8080/",
          "height": 896
        }
      },
      "source": [
        "!wget -O train-images-idx3-ubyte.gz http://yann.lecun.com/exdb/mnist/train-images-idx3-ubyte.gz # download train images\n",
        "!wget -O train-labels-idx1-ubyte.gz http://yann.lecun.com/exdb/mnist/train-labels-idx1-ubyte.gz # download train labels\n",
        "!wget -O t10k-images-idx3-ubyte.gz http://yann.lecun.com/exdb/mnist/t10k-images-idx3-ubyte.gz # download val images\n",
        "!wget -O t10k-labels-idx1-ubyte.gz http://yann.lecun.com/exdb/mnist/t10k-labels-idx1-ubyte.gz # download val labels\n",
        "\n",
        "!mkdir datasets # create dataset dir\n",
        "!mkdir datasets/mnist # create mnist dir\n",
        "\n",
        "# extract downloaded data\n",
        "!gunzip train-images-idx3-ubyte.gz\n",
        "!gunzip train-labels-idx1-ubyte.gz\n",
        "!gunzip t10k-images-idx3-ubyte.gz\n",
        "!gunzip t10k-labels-idx1-ubyte.gz\n",
        "\n",
        "# move extracted data to mnist dir\n",
        "!mv train-images-idx3-ubyte datasets/mnist\n",
        "!mv train-labels-idx1-ubyte datasets/mnist\n",
        "!mv t10k-images-idx3-ubyte datasets/mnist\n",
        "!mv t10k-labels-idx1-ubyte datasets/mnist"
      ],
      "execution_count": 0,
      "outputs": [
        {
          "output_type": "stream",
          "text": [
            "--2020-05-15 18:16:14--  http://yann.lecun.com/exdb/mnist/train-images-idx3-ubyte.gz\n",
            "Resolving yann.lecun.com (yann.lecun.com)... 104.28.6.204, 104.28.7.204, 2606:4700:3031::681c:6cc, ...\n",
            "Connecting to yann.lecun.com (yann.lecun.com)|104.28.6.204|:80... connected.\n",
            "HTTP request sent, awaiting response... 200 OK\n",
            "Length: 9912422 (9.5M) [application/x-gzip]\n",
            "Saving to: ‘train-images-idx3-ubyte.gz’\n",
            "\n",
            "\r          train-ima   0%[                    ]       0  --.-KB/s               \r         train-imag  17%[==>                 ]   1.68M  8.40MB/s               \rtrain-images-idx3-u 100%[===================>]   9.45M  30.2MB/s    in 0.3s    \n",
            "\n",
            "2020-05-15 18:16:15 (30.2 MB/s) - ‘train-images-idx3-ubyte.gz’ saved [9912422/9912422]\n",
            "\n",
            "--2020-05-15 18:16:16--  http://yann.lecun.com/exdb/mnist/train-labels-idx1-ubyte.gz\n",
            "Resolving yann.lecun.com (yann.lecun.com)... 104.28.6.204, 104.28.7.204, 2606:4700:3031::681c:6cc, ...\n",
            "Connecting to yann.lecun.com (yann.lecun.com)|104.28.6.204|:80... connected.\n",
            "HTTP request sent, awaiting response... 200 OK\n",
            "Length: 28881 (28K) [application/x-gzip]\n",
            "Saving to: ‘train-labels-idx1-ubyte.gz’\n",
            "\n",
            "train-labels-idx1-u 100%[===================>]  28.20K  --.-KB/s    in 0.03s   \n",
            "\n",
            "2020-05-15 18:16:16 (1.05 MB/s) - ‘train-labels-idx1-ubyte.gz’ saved [28881/28881]\n",
            "\n",
            "--2020-05-15 18:16:17--  http://yann.lecun.com/exdb/mnist/t10k-images-idx3-ubyte.gz\n",
            "Resolving yann.lecun.com (yann.lecun.com)... 104.28.6.204, 104.28.7.204, 2606:4700:3031::681c:6cc, ...\n",
            "Connecting to yann.lecun.com (yann.lecun.com)|104.28.6.204|:80... connected.\n",
            "HTTP request sent, awaiting response... 200 OK\n",
            "Length: 1648877 (1.6M) [application/x-gzip]\n",
            "Saving to: ‘t10k-images-idx3-ubyte.gz’\n",
            "\n",
            "t10k-images-idx3-ub 100%[===================>]   1.57M  9.13MB/s    in 0.2s    \n",
            "\n",
            "2020-05-15 18:16:17 (9.13 MB/s) - ‘t10k-images-idx3-ubyte.gz’ saved [1648877/1648877]\n",
            "\n",
            "--2020-05-15 18:16:18--  http://yann.lecun.com/exdb/mnist/t10k-labels-idx1-ubyte.gz\n",
            "Resolving yann.lecun.com (yann.lecun.com)... 104.28.7.204, 104.28.6.204, 2606:4700:3033::681c:7cc, ...\n",
            "Connecting to yann.lecun.com (yann.lecun.com)|104.28.7.204|:80... connected.\n",
            "HTTP request sent, awaiting response... 200 OK\n",
            "Length: 4542 (4.4K) [application/x-gzip]\n",
            "Saving to: ‘t10k-labels-idx1-ubyte.gz’\n",
            "\n",
            "t10k-labels-idx1-ub 100%[===================>]   4.44K  --.-KB/s    in 0s      \n",
            "\n",
            "2020-05-15 18:16:18 (494 MB/s) - ‘t10k-labels-idx1-ubyte.gz’ saved [4542/4542]\n",
            "\n",
            "mkdir: cannot create directory ‘datasets’: File exists\n",
            "mkdir: cannot create directory ‘datasets/mnist’: File exists\n"
          ],
          "name": "stdout"
        }
      ]
    },
    {
      "cell_type": "code",
      "metadata": {
        "id": "80l8K9p2t0Zr",
        "colab_type": "code",
        "outputId": "b4d67fec-aa06-478a-abe8-822d388c77cd",
        "colab": {
          "base_uri": "https://localhost:8080/",
          "height": 36
        }
      },
      "source": [
        "!pip install python-mnist # install mnist helper package"
      ],
      "execution_count": 0,
      "outputs": [
        {
          "output_type": "stream",
          "text": [
            "Requirement already satisfied: python-mnist in /usr/local/lib/python3.6/dist-packages (0.7)\n"
          ],
          "name": "stdout"
        }
      ]
    },
    {
      "cell_type": "markdown",
      "metadata": {
        "id": "jMxl_cYJebGc",
        "colab_type": "text"
      },
      "source": [
        "### Imports"
      ]
    },
    {
      "cell_type": "code",
      "metadata": {
        "id": "iqv6qPkib1od",
        "colab_type": "code",
        "colab": {}
      },
      "source": [
        "import numpy as np # numpy for matrix opreations\n",
        "import math # math for mathematical operations\n",
        "import scipy.io # scipy for visualization\n",
        "import matplotlib.pyplot as plt # matplotlib for plotting\n",
        "\n",
        "# keras modules\n",
        "from keras.models import Sequential\n",
        "from keras.layers import Conv2D, MaxPooling2D, UpSampling2D, ReLU\n",
        "from keras.losses import MSE, KLDivergence\n",
        "from keras.optimizers import Adam\n",
        "\n",
        "# efficient tensor operations\n",
        "import tensorflow as tf\n",
        "\n",
        "# tensor operations\n",
        "import tensorflow.keras.backend as K\n",
        "\n",
        "# distribution visualization\n",
        "import seaborn as sns\n",
        "\n",
        "# for plotting normal distribution\n",
        "from scipy.stats import norm\n",
        "\n",
        "# display images with PIL\n",
        "from PIL import Image\n",
        "\n",
        "# for acessing files\n",
        "import os\n",
        "\n",
        "# mnist helper package\n",
        "from mnist import MNIST"
      ],
      "execution_count": 0,
      "outputs": []
    },
    {
      "cell_type": "markdown",
      "metadata": {
        "id": "zBIQKM3Px4An",
        "colab_type": "text"
      },
      "source": [
        "### Read and organize data"
      ]
    },
    {
      "cell_type": "code",
      "metadata": {
        "id": "yCk2lQgUy3S1",
        "colab_type": "code",
        "colab": {}
      },
      "source": [
        "mnist = MNIST('datasets/mnist') # load dataset\n",
        "\n",
        "images, _ = mnist.load_training() # load train images\n",
        "val_images, _ = mnist.load_testing() # load val images\n",
        "\n",
        "images = [img.reshape(28, 28) for img in images] # reshape images\n",
        "val_images = [img.reshape(28, 28) for img in images]\n",
        "\n",
        "images = np.array(images) # transform list of images to numpy array\n",
        "val_images = np.array(val_images) # transform list of val images to numpy array\n",
        "\n",
        "images_temp = np.expand_dims(images, 3) # reshape dataset for training\n",
        "val_images_temp = np.expand_dims(val_images, 3)\n",
        "\n",
        "images = np.zeros((images.shape[0], 32, 32, 1)) # pad images to 32x32 px\n",
        "images[:, 2:30, 2:30, :] = images_temp\n",
        "\n",
        "val_images = np.zeros((val_images.shape[0], 32, 32, 1))\n",
        "val_images[:, 2:30, 2:30, :] = val_images_temp"
      ],
      "execution_count": 0,
      "outputs": []
    },
    {
      "cell_type": "code",
      "metadata": {
        "id": "1yoblUskxCZj",
        "colab_type": "code",
        "outputId": "be9780f9-754e-449a-a23e-fc1f7750585a",
        "colab": {
          "base_uri": "https://localhost:8080/",
          "height": 285
        }
      },
      "source": [
        "plt.imshow(images[142,:,:,0], cmap=\"gray\") # display sample image"
      ],
      "execution_count": 0,
      "outputs": [
        {
          "output_type": "execute_result",
          "data": {
            "text/plain": [
              "<matplotlib.image.AxesImage at 0x7efb8aeabd30>"
            ]
          },
          "metadata": {
            "tags": []
          },
          "execution_count": 32
        },
        {
          "output_type": "display_data",
          "data": {
            "image/png": "[encoded data removed]",
            "text/plain": [
              "<Figure size 432x288 with 1 Axes>"
            ]
          },
          "metadata": {
            "tags": [],
            "needs_background": "light"
          }
        }
      ]
    },
    {
      "cell_type": "markdown",
      "metadata": {
        "id": "G1Xglpg9aicD",
        "colab_type": "text"
      },
      "source": [
        "### Normalize data"
      ]
    },
    {
      "cell_type": "code",
      "metadata": {
        "id": "NbFlkrw_ah-E",
        "colab_type": "code",
        "colab": {}
      },
      "source": [
        "avg = np.average(images) # calculate mean pixel value in the dataset\n",
        "std = np.std(images) # calculate std of pixel values in the dataset\n",
        "\n",
        "images_downscaled  = (images - avg) / std # normalize data using std normalization\n",
        "val_images_downscaled = (val_images - avg) / std"
      ],
      "execution_count": 0,
      "outputs": []
    },
    {
      "cell_type": "markdown",
      "metadata": {
        "id": "wMacOoyNqVTv",
        "colab_type": "text"
      },
      "source": [
        "### VAE encoder loss formula\n",
        "Using the Kullback-Leibler loss formula."
      ]
    },
    {
      "cell_type": "code",
      "metadata": {
        "id": "WWLLf4n8qVoS",
        "colab_type": "code",
        "colab": {}
      },
      "source": [
        "# KL loss formula\n",
        "def vae_loss(X, Y): #  Y must be torch.zeros\n",
        "  X += Y # this line keeps autograd error messages away\n",
        "  loss = 0 # initialize loss variable\n",
        "  for i in range(X.shape[1]): # iterate over all possible pixel locations\n",
        "    for j in range(X.shape[2]):\n",
        "      for k in range(X.shape[3]):\n",
        "        mean = K.mean(X[:,i,j,k]) # calculate mean and std of pixel location\n",
        "        std = K.std(X[:,i,j,k])\n",
        "        loss += mean*mean+std*std-1-K.log(std*std) # try to minimize the above values using the KL loss formula\n",
        "  return loss"
      ],
      "execution_count": 0,
      "outputs": []
    },
    {
      "cell_type": "markdown",
      "metadata": {
        "id": "lOufPsZZ7r7s",
        "colab_type": "text"
      },
      "source": [
        "### Define model"
      ]
    },
    {
      "cell_type": "code",
      "metadata": {
        "id": "RNAj2Fdv7sRb",
        "colab_type": "code",
        "colab": {}
      },
      "source": [
        "# encoder part\n",
        "class Encoder():\n",
        "    # arguments: number of conv levels, number of layers per level, thickness of layers, kernel size\n",
        "    def __init__(self, levels, layers, thickness, n):\n",
        "        super(Encoder, self).__init__()\n",
        "        self.levels = levels\n",
        "        self.layers = layers\n",
        "        self.n = n\n",
        "        self.thickness = thickness\n",
        "        self.__built = False\n",
        "\n",
        "    # this method builds the encoder\n",
        "    # automatically called on first forward pass or summary\n",
        "    def __build(self, X):\n",
        "        self.__model = Sequential() # sequetnial model\n",
        "        for level in range(self.levels): # calculate convolutional layer sizes and create the layers\n",
        "            for layer in range(self.layers):\n",
        "                if level == 0 and layer == 0:\n",
        "                    self.__model.add(Conv2D(self.thickness*(2**level), kernel_size=(self.n, self.n), padding=\"same\", input_shape=X.shape[1:4], name=f\"encoder_conv{level}_{layer}\"))\n",
        "                else:\n",
        "                    self.__model.add(Conv2D(self.thickness*(2**level), kernel_size=(self.n, self.n), padding=\"same\", name=f\"encoder_conv{level}_{layer}\"))\n",
        "                self.__model.add(ReLU(name=f\"encoder_relu{level}_{layer}\")) # relu to avoid loss of gradient\n",
        "            self.__model.add(MaxPooling2D(pool_size=(2,2), name=f\"encoder_maxpool{level}\")) # maxpool reduces dimensionality\n",
        "        self.__model.add(Conv2D(self.thickness*2**(self.levels-1), kernel_size=(self.n, self.n), padding=\"same\", name=f\"encoder_final_conv\"))\n",
        "        self.__model.compile(loss=vae_loss, optimizer=Adam(lr=0.001)) # apply KL loss\n",
        "        self.__built=True\n",
        "\n",
        "    # forward pass\n",
        "    # __call__ should be called instead\n",
        "    def forward(self, X, Y_target):\n",
        "        if not self.__built:\n",
        "            self.__build(X)\n",
        "        loss = self.__model.train_on_batch(X, Y_target)\n",
        "        return loss\n",
        "    \n",
        "    # print model summary\n",
        "    def summary(self):\n",
        "        assert self.__built, \"Build model first by passing a tensor to it.\"\n",
        "        self.__model.summary()\n",
        "\n",
        "    # forward pass, no training is performed    \n",
        "    def predict(self, X):\n",
        "        if not self.__built:\n",
        "            self.__build(X)\n",
        "        return self.__model.predict(X)\n",
        "\n",
        "    # set trainability of network (does not require rebuild)\n",
        "    def trainable(self, val):\n",
        "        if not self.__built:\n",
        "            self.__build(X)\n",
        "        for layer in self.__model.layers:\n",
        "            layer.trainable = val\n",
        "    \n",
        "    # return inner model\n",
        "    def model(self):\n",
        "        return self.__model\n",
        "\n",
        "# decoder part    \n",
        "class Decoder():\n",
        "   \n",
        "    # parameters: number of conv levels, layers per level, thickness of each level, kernel size\n",
        "    def __init__(self, levels, layers, thickness, n):\n",
        "        super(Decoder, self).__init__()\n",
        "        self.levels = levels\n",
        "        self.layers = layers\n",
        "        self.n = n\n",
        "        self.thickness = thickness\n",
        "        self.__built = False\n",
        "\n",
        "    # this method builds the decoder\n",
        "    # automatically called on first forward pass or summary\n",
        "    def __build(self, X):\n",
        "        self.__model = Sequential() # sequetnial model\n",
        "        for level in reversed(range(self.levels)): # calculate convolutional layer sizes and create the layers\n",
        "            for layer in range(self.layers):\n",
        "                self.__model.add(Conv2D(self.thickness*(2**level), kernel_size=(self.n, self.n), padding=\"same\", name=f\"decoder_conv{level}_{layer}\"))\n",
        "                self.__model.add(ReLU(name=f\"decoder_relu{level}_{layer}\"))  # relu to avoid loss of gradient\n",
        "            self.__model.add(UpSampling2D(size=(2,2), name=f\"decoder_upsampling{level}\")) # upsample layer reduces dimensionality\n",
        "        self.__model.add(Conv2D(1, kernel_size=(self.n, self.n), padding=\"same\", name=\"final_conv\"))\n",
        "        self.__model.compile(loss=['mse'], optimizer=Adam(lr=0.01)) # apply mse after the final layer\n",
        "        self.__built = True\n",
        "\n",
        "    # forward pass\n",
        "    # __call__ should be called instead\n",
        "    def forward(self, X, Y_target):\n",
        "        if not self.__built:\n",
        "            self.__build(X)\n",
        "        loss = self.__model.train_on_batch(X, Y_target)\n",
        "        return loss\n",
        "    \n",
        "    # print model summary\n",
        "    def summary(self):\n",
        "        assert self.__built, \"Build model first by passing a tensor to it.\"\n",
        "        self.__model.summary()\n",
        "    \n",
        "    # forward pass, no training is performed    \n",
        "    def predict(self, X):\n",
        "        if not self.__built:\n",
        "            self.__build(X)\n",
        "        return self.__model.predict(X)\n",
        "\n",
        "    # set trainability of network (does not require rebuild)\n",
        "    def trainable(self, val):\n",
        "        for layer in self.__model.layers:\n",
        "            layer.trainable = val\n",
        "\n",
        "    # return inner model\n",
        "    def model(self):\n",
        "        return self.__model"
      ],
      "execution_count": 0,
      "outputs": []
    },
    {
      "cell_type": "markdown",
      "metadata": {
        "id": "jY9TyUrN4Pdr",
        "colab_type": "text"
      },
      "source": [
        "### Train model"
      ]
    },
    {
      "cell_type": "code",
      "metadata": {
        "id": "L4-onG1H4Njo",
        "colab_type": "code",
        "outputId": "073e07cc-dfab-450e-c74e-7eb8c00c57a4",
        "colab": {
          "base_uri": "https://localhost:8080/",
          "height": 889
        }
      },
      "source": [
        "epochs = 100 # number of epochs\n",
        "batch_size = 50 # we use mini batching\n",
        "\n",
        "batches = math.ceil(images.shape[0] / batch_size) # calculate number of batches\n",
        "val_batches = math.ceil(val_images.shape[0] / batch_size)\n",
        "\n",
        "# shorten training time\n",
        "# batches = 50\n",
        "# val_batches = 10\n",
        "\n",
        "# define parameters for the encoder and decoder\n",
        "levels = 3 \n",
        "layers = 3\n",
        "thickness = 4\n",
        "n = 3\n",
        "\n",
        "# instantiate encoder and decoder\n",
        "encoder = Encoder(levels, layers, thickness, n)\n",
        "decoder = Decoder(levels, layers, thickness, n)\n",
        "\n",
        "# pass data through encoder and decoder without training\n",
        "# this builds the model\n",
        "X = encoder.predict(images_downscaled[:batch_size])\n",
        "decoder.predict(X)\n",
        "\n",
        "# create dummy target for kl loss\n",
        "kl_zeros = tf.zeros((batch_size,32//(2**levels),32//(2**levels),thickness*2**(levels-1)))\n",
        "\n",
        "# build combined model\n",
        "combined = Sequential()\n",
        "combined.add(encoder.model())\n",
        "combined.add(decoder.model())\n",
        "# mse loss and adam optimizer\n",
        "combined.compile(loss=['mse'], optimizer=\"adam\")\n",
        "\n",
        "# train modle\n",
        "for e in range(epochs):\n",
        "    encoder_loss_total = 0 # initialize encoder loss\n",
        "    decoder_loss_total = 0 # initialize decoder loss\n",
        "    \n",
        "    for b in range(batches): # pass all batches of downscaled data through the network\n",
        "        print(f\"\\r{b}/{batches}\", end=\"\")\n",
        "        # firstly create the batch of data and target data\n",
        "        X = images_downscaled[batch_size*b:batch_size*(b+1)]\n",
        "        Y_target = images[batch_size*b:batch_size*(b+1)]\n",
        "\n",
        "        # enable training\n",
        "        encoder.trainable(True) # this method actually enables training by looping over all layers (defined above)\n",
        "        decoder.trainable(True)\n",
        "\n",
        "        encoder_loss_total += encoder.forward(X, kl_zeros) # add batch loss to total\n",
        "        decoder_loss_total += combined.train_on_batch(X, Y_target)\n",
        "    \n",
        "    # print loss\n",
        "    print(f\"\\repoch {e} -- enc loss: {encoder_loss_total / (batches*batch_size)} -- dec loss: {decoder_loss_total / (batches*batch_size)}\", end=\" -- \")\n",
        "\n",
        "    val_encoder_loss_total = 0 # initialize val encoder loss\n",
        "    val_decoder_loss_total = 0 # initialize val decoder loss\n",
        "    for b in range(val_batches):  # pass all batches of downscaled val data through the network\n",
        "\n",
        "        X = val_images_downscaled[batch_size*b:batch_size*(b+1)]\n",
        "        Y_target = val_images[batch_size*b:batch_size*(b+1)]\n",
        "\n",
        "        encoder.trainable(False) # disable training\n",
        "        decoder.trainable(False)\n",
        "\n",
        "        val_encoder_loss_total += encoder.forward(X, kl_zeros) # add batch loss to total\n",
        "        val_decoder_loss_total += combined.train_on_batch(X, Y_target)\n",
        "    \n",
        "    # print val loss\n",
        "    print(f\"val enc loss: {val_encoder_loss_total / (val_batches*batch_size)} -- val dec loss: {val_decoder_loss_total / (val_batches*batch_size)}\")\n"
      ],
      "execution_count": 36,
      "outputs": [
        {
          "output_type": "stream",
          "text": [
            "epoch 0 -- enc loss: 2.1348834116776785 -- dec loss: 40.0134344136556 -- "
          ],
          "name": "stdout"
        },
        {
          "output_type": "stream",
          "text": [
            "/usr/local/lib/python3.6/dist-packages/keras/engine/training.py:297: UserWarning: Discrepancy between trainable weights and collected trainable weights, did you set `model.trainable` without calling `model.compile` after ?\n",
            "  'Discrepancy between trainable weights and collected trainable'\n"
          ],
          "name": "stderr"
        },
        {
          "output_type": "stream",
          "text": [
            "val enc loss: 0.5100326455434163 -- val dec loss: 22.367041092936198\n",
            "epoch 1 -- enc loss: 0.4211781610329946 -- dec loss: 18.218313981119792 -- val enc loss: 0.3606152188062668 -- val dec loss: 16.067301935831704\n",
            "epoch 2 -- enc loss: 0.3268316444714864 -- dec loss: 14.752482780965169 -- val enc loss: 0.30212659258842467 -- val dec loss: 13.818267154947916\n",
            "epoch 3 -- enc loss: 0.28580781542460126 -- dec loss: 13.076672055053711 -- val enc loss: 0.27442872512340544 -- val dec loss: 12.479541784159343\n",
            "epoch 4 -- enc loss: 0.2652117079973221 -- dec loss: 11.945367841593425 -- val enc loss: 0.2579233667532603 -- val dec loss: 11.541591158040365\n",
            "epoch 5 -- enc loss: 0.2525276609102885 -- dec loss: 11.241835117594402 -- val enc loss: 0.24735494592984517 -- val dec loss: 10.991329735310872\n",
            "epoch 6 -- enc loss: 0.24187154753605525 -- dec loss: 10.763654028320312 -- val enc loss: 0.2378176511923472 -- val dec loss: 10.56101362253825\n",
            "epoch 7 -- enc loss: 0.23422205923398337 -- dec loss: 10.3762437113444 -- val enc loss: 0.23116718247731527 -- val dec loss: 10.228224538675944\n",
            "epoch 8 -- enc loss: 0.2293177942832311 -- dec loss: 10.12928098042806 -- val enc loss: 0.22817109144528708 -- val dec loss: 10.021853315226236\n",
            "epoch 9 -- enc loss: 0.22639957480430603 -- dec loss: 9.905238167317709 -- val enc loss: 0.22511970772743226 -- val dec loss: 9.802380831400553\n",
            "epoch 10 -- enc loss: 0.22413982062339782 -- dec loss: 9.711311921691895 -- val enc loss: 0.22301702349980673 -- val dec loss: 9.598625275675456\n",
            "epoch 11 -- enc loss: 0.22222774948279062 -- dec loss: 9.506726285807291 -- val enc loss: 0.22162739319006602 -- val dec loss: 9.434430280049641\n",
            "epoch 12 -- enc loss: 0.22062525500456492 -- dec loss: 9.344199700927735 -- val enc loss: 0.21931736160914103 -- val dec loss: 9.273266955566406\n",
            "epoch 13 -- enc loss: 0.2187871429761251 -- dec loss: 9.208591487630208 -- val enc loss: 0.21919131552378338 -- val dec loss: 9.133711829121907\n",
            "epoch 14 -- enc loss: 0.218947585773468 -- dec loss: 9.080673330688477 -- val enc loss: 0.2181758486588796 -- val dec loss: 9.013866633097331\n",
            "epoch 15 -- enc loss: 0.21806002420981724 -- dec loss: 8.955351102701822 -- val enc loss: 0.21759279168049495 -- val dec loss: 8.909980307006835\n",
            "epoch 16 -- enc loss: 0.2172260163426399 -- dec loss: 8.848797288004556 -- val enc loss: 0.21656091632445654 -- val dec loss: 8.791531661987305\n",
            "epoch 17 -- enc loss: 0.21688681538105012 -- dec loss: 8.717954133097331 -- val enc loss: 0.21730740251143774 -- val dec loss: 8.702903792826335\n",
            "epoch 18 -- enc loss: 0.21684276169935862 -- dec loss: 8.65833579457601 -- val enc loss: 0.21727283196846645 -- val dec loss: 8.634096661885579\n",
            "epoch 19 -- enc loss: 0.2168962955792745 -- dec loss: 8.619914217631022 -- val enc loss: 0.21633590510686238 -- val dec loss: 8.582907023620605\n",
            "epoch 20 -- enc loss: 0.215905328420798 -- dec loss: 8.57350812886556 -- val enc loss: 0.21565958470503488 -- val dec loss: 8.551362918599446\n",
            "epoch 21 -- enc loss: 0.21472540036439897 -- dec loss: 8.528308835347493 -- val enc loss: 0.21437462759017945 -- val dec loss: 8.492388134765624\n",
            "epoch 22 -- enc loss: 0.21365163263082504 -- dec loss: 8.467801471455893 -- "
          ],
          "name": "stdout"
        },
        {
          "output_type": "error",
          "ename": "KeyboardInterrupt",
          "evalue": "ignored",
          "traceback": [
            "\u001b[0;31m---------------------------------------------------------------------------\u001b[0m",
            "\u001b[0;31mKeyboardInterrupt\u001b[0m                         Traceback (most recent call last)",
            "\u001b[0;32m<ipython-input-36-791da8c0b1d4>\u001b[0m in \u001b[0;36m<module>\u001b[0;34m()\u001b[0m\n\u001b[1;32m     55\u001b[0m \u001b[0;34m\u001b[0m\u001b[0m\n\u001b[1;32m     56\u001b[0m         \u001b[0mval_encoder_loss_total\u001b[0m \u001b[0;34m+=\u001b[0m \u001b[0mencoder\u001b[0m\u001b[0;34m.\u001b[0m\u001b[0mforward\u001b[0m\u001b[0;34m(\u001b[0m\u001b[0mX\u001b[0m\u001b[0;34m,\u001b[0m \u001b[0mkl_zeros\u001b[0m\u001b[0;34m)\u001b[0m\u001b[0;34m\u001b[0m\u001b[0;34m\u001b[0m\u001b[0m\n\u001b[0;32m---> 57\u001b[0;31m         \u001b[0mval_decoder_loss_total\u001b[0m \u001b[0;34m+=\u001b[0m \u001b[0mcombined\u001b[0m\u001b[0;34m.\u001b[0m\u001b[0mtrain_on_batch\u001b[0m\u001b[0;34m(\u001b[0m\u001b[0mX\u001b[0m\u001b[0;34m,\u001b[0m \u001b[0mY_target\u001b[0m\u001b[0;34m)\u001b[0m\u001b[0;34m\u001b[0m\u001b[0;34m\u001b[0m\u001b[0m\n\u001b[0m\u001b[1;32m     58\u001b[0m \u001b[0;34m\u001b[0m\u001b[0m\n\u001b[1;32m     59\u001b[0m     \u001b[0mprint\u001b[0m\u001b[0;34m(\u001b[0m\u001b[0;34mf\"val enc loss: {val_encoder_loss_total / (val_batches*batch_size)} -- val dec loss: {val_decoder_loss_total / (val_batches*batch_size)}\"\u001b[0m\u001b[0;34m)\u001b[0m\u001b[0;34m\u001b[0m\u001b[0;34m\u001b[0m\u001b[0m\n",
            "\u001b[0;32m/usr/local/lib/python3.6/dist-packages/keras/engine/training.py\u001b[0m in \u001b[0;36mtrain_on_batch\u001b[0;34m(self, x, y, sample_weight, class_weight, reset_metrics)\u001b[0m\n\u001b[1;32m   1512\u001b[0m             \u001b[0mins\u001b[0m \u001b[0;34m=\u001b[0m \u001b[0mx\u001b[0m \u001b[0;34m+\u001b[0m \u001b[0my\u001b[0m \u001b[0;34m+\u001b[0m \u001b[0msample_weights\u001b[0m\u001b[0;34m\u001b[0m\u001b[0;34m\u001b[0m\u001b[0m\n\u001b[1;32m   1513\u001b[0m         \u001b[0mself\u001b[0m\u001b[0;34m.\u001b[0m\u001b[0m_make_train_function\u001b[0m\u001b[0;34m(\u001b[0m\u001b[0;34m)\u001b[0m\u001b[0;34m\u001b[0m\u001b[0;34m\u001b[0m\u001b[0m\n\u001b[0;32m-> 1514\u001b[0;31m         \u001b[0moutputs\u001b[0m \u001b[0;34m=\u001b[0m \u001b[0mself\u001b[0m\u001b[0;34m.\u001b[0m\u001b[0mtrain_function\u001b[0m\u001b[0;34m(\u001b[0m\u001b[0mins\u001b[0m\u001b[0;34m)\u001b[0m\u001b[0;34m\u001b[0m\u001b[0;34m\u001b[0m\u001b[0m\n\u001b[0m\u001b[1;32m   1515\u001b[0m \u001b[0;34m\u001b[0m\u001b[0m\n\u001b[1;32m   1516\u001b[0m         \u001b[0;32mif\u001b[0m \u001b[0mreset_metrics\u001b[0m\u001b[0;34m:\u001b[0m\u001b[0;34m\u001b[0m\u001b[0;34m\u001b[0m\u001b[0m\n",
            "\u001b[0;32m/usr/local/lib/python3.6/dist-packages/tensorflow/python/keras/backend.py\u001b[0m in \u001b[0;36m__call__\u001b[0;34m(self, inputs)\u001b[0m\n\u001b[1;32m   3790\u001b[0m         \u001b[0mvalue\u001b[0m \u001b[0;34m=\u001b[0m \u001b[0mmath_ops\u001b[0m\u001b[0;34m.\u001b[0m\u001b[0mcast\u001b[0m\u001b[0;34m(\u001b[0m\u001b[0mvalue\u001b[0m\u001b[0;34m,\u001b[0m \u001b[0mtensor\u001b[0m\u001b[0;34m.\u001b[0m\u001b[0mdtype\u001b[0m\u001b[0;34m)\u001b[0m\u001b[0;34m\u001b[0m\u001b[0;34m\u001b[0m\u001b[0m\n\u001b[1;32m   3791\u001b[0m       \u001b[0mconverted_inputs\u001b[0m\u001b[0;34m.\u001b[0m\u001b[0mappend\u001b[0m\u001b[0;34m(\u001b[0m\u001b[0mvalue\u001b[0m\u001b[0;34m)\u001b[0m\u001b[0;34m\u001b[0m\u001b[0;34m\u001b[0m\u001b[0m\n\u001b[0;32m-> 3792\u001b[0;31m     \u001b[0moutputs\u001b[0m \u001b[0;34m=\u001b[0m \u001b[0mself\u001b[0m\u001b[0;34m.\u001b[0m\u001b[0m_graph_fn\u001b[0m\u001b[0;34m(\u001b[0m\u001b[0;34m*\u001b[0m\u001b[0mconverted_inputs\u001b[0m\u001b[0;34m)\u001b[0m\u001b[0;34m\u001b[0m\u001b[0;34m\u001b[0m\u001b[0m\n\u001b[0m\u001b[1;32m   3793\u001b[0m \u001b[0;34m\u001b[0m\u001b[0m\n\u001b[1;32m   3794\u001b[0m     \u001b[0;31m# EagerTensor.numpy() will often make a copy to ensure memory safety.\u001b[0m\u001b[0;34m\u001b[0m\u001b[0;34m\u001b[0m\u001b[0;34m\u001b[0m\u001b[0m\n",
            "\u001b[0;32m/usr/local/lib/python3.6/dist-packages/tensorflow/python/eager/function.py\u001b[0m in \u001b[0;36m__call__\u001b[0;34m(self, *args, **kwargs)\u001b[0m\n\u001b[1;32m   1603\u001b[0m       \u001b[0mTypeError\u001b[0m\u001b[0;34m:\u001b[0m \u001b[0mFor\u001b[0m \u001b[0minvalid\u001b[0m \u001b[0mpositional\u001b[0m\u001b[0;34m/\u001b[0m\u001b[0mkeyword\u001b[0m \u001b[0margument\u001b[0m \u001b[0mcombinations\u001b[0m\u001b[0;34m.\u001b[0m\u001b[0;34m\u001b[0m\u001b[0;34m\u001b[0m\u001b[0m\n\u001b[1;32m   1604\u001b[0m     \"\"\"\n\u001b[0;32m-> 1605\u001b[0;31m     \u001b[0;32mreturn\u001b[0m \u001b[0mself\u001b[0m\u001b[0;34m.\u001b[0m\u001b[0m_call_impl\u001b[0m\u001b[0;34m(\u001b[0m\u001b[0margs\u001b[0m\u001b[0;34m,\u001b[0m \u001b[0mkwargs\u001b[0m\u001b[0;34m)\u001b[0m\u001b[0;34m\u001b[0m\u001b[0;34m\u001b[0m\u001b[0m\n\u001b[0m\u001b[1;32m   1606\u001b[0m \u001b[0;34m\u001b[0m\u001b[0m\n\u001b[1;32m   1607\u001b[0m   \u001b[0;32mdef\u001b[0m \u001b[0m_call_impl\u001b[0m\u001b[0;34m(\u001b[0m\u001b[0mself\u001b[0m\u001b[0;34m,\u001b[0m \u001b[0margs\u001b[0m\u001b[0;34m,\u001b[0m \u001b[0mkwargs\u001b[0m\u001b[0;34m,\u001b[0m \u001b[0mcancellation_manager\u001b[0m\u001b[0;34m=\u001b[0m\u001b[0;32mNone\u001b[0m\u001b[0;34m)\u001b[0m\u001b[0;34m:\u001b[0m\u001b[0;34m\u001b[0m\u001b[0;34m\u001b[0m\u001b[0m\n",
            "\u001b[0;32m/usr/local/lib/python3.6/dist-packages/tensorflow/python/eager/function.py\u001b[0m in \u001b[0;36m_call_impl\u001b[0;34m(self, args, kwargs, cancellation_manager)\u001b[0m\n\u001b[1;32m   1643\u001b[0m       raise TypeError(\"Keyword arguments {} unknown. Expected {}.\".format(\n\u001b[1;32m   1644\u001b[0m           list(kwargs.keys()), list(self._arg_keywords)))\n\u001b[0;32m-> 1645\u001b[0;31m     \u001b[0;32mreturn\u001b[0m \u001b[0mself\u001b[0m\u001b[0;34m.\u001b[0m\u001b[0m_call_flat\u001b[0m\u001b[0;34m(\u001b[0m\u001b[0margs\u001b[0m\u001b[0;34m,\u001b[0m \u001b[0mself\u001b[0m\u001b[0;34m.\u001b[0m\u001b[0mcaptured_inputs\u001b[0m\u001b[0;34m,\u001b[0m \u001b[0mcancellation_manager\u001b[0m\u001b[0;34m)\u001b[0m\u001b[0;34m\u001b[0m\u001b[0;34m\u001b[0m\u001b[0m\n\u001b[0m\u001b[1;32m   1646\u001b[0m \u001b[0;34m\u001b[0m\u001b[0m\n\u001b[1;32m   1647\u001b[0m   \u001b[0;32mdef\u001b[0m \u001b[0m_filtered_call\u001b[0m\u001b[0;34m(\u001b[0m\u001b[0mself\u001b[0m\u001b[0;34m,\u001b[0m \u001b[0margs\u001b[0m\u001b[0;34m,\u001b[0m \u001b[0mkwargs\u001b[0m\u001b[0;34m)\u001b[0m\u001b[0;34m:\u001b[0m\u001b[0;34m\u001b[0m\u001b[0;34m\u001b[0m\u001b[0m\n",
            "\u001b[0;32m/usr/local/lib/python3.6/dist-packages/tensorflow/python/eager/function.py\u001b[0m in \u001b[0;36m_call_flat\u001b[0;34m(self, args, captured_inputs, cancellation_manager)\u001b[0m\n\u001b[1;32m   1744\u001b[0m       \u001b[0;31m# No tape is watching; skip to running the function.\u001b[0m\u001b[0;34m\u001b[0m\u001b[0;34m\u001b[0m\u001b[0;34m\u001b[0m\u001b[0m\n\u001b[1;32m   1745\u001b[0m       return self._build_call_outputs(self._inference_function.call(\n\u001b[0;32m-> 1746\u001b[0;31m           ctx, args, cancellation_manager=cancellation_manager))\n\u001b[0m\u001b[1;32m   1747\u001b[0m     forward_backward = self._select_forward_and_backward_functions(\n\u001b[1;32m   1748\u001b[0m         \u001b[0margs\u001b[0m\u001b[0;34m,\u001b[0m\u001b[0;34m\u001b[0m\u001b[0;34m\u001b[0m\u001b[0m\n",
            "\u001b[0;32m/usr/local/lib/python3.6/dist-packages/tensorflow/python/eager/function.py\u001b[0m in \u001b[0;36mcall\u001b[0;34m(self, ctx, args, cancellation_manager)\u001b[0m\n\u001b[1;32m    596\u001b[0m               \u001b[0minputs\u001b[0m\u001b[0;34m=\u001b[0m\u001b[0margs\u001b[0m\u001b[0;34m,\u001b[0m\u001b[0;34m\u001b[0m\u001b[0;34m\u001b[0m\u001b[0m\n\u001b[1;32m    597\u001b[0m               \u001b[0mattrs\u001b[0m\u001b[0;34m=\u001b[0m\u001b[0mattrs\u001b[0m\u001b[0;34m,\u001b[0m\u001b[0;34m\u001b[0m\u001b[0;34m\u001b[0m\u001b[0m\n\u001b[0;32m--> 598\u001b[0;31m               ctx=ctx)\n\u001b[0m\u001b[1;32m    599\u001b[0m         \u001b[0;32melse\u001b[0m\u001b[0;34m:\u001b[0m\u001b[0;34m\u001b[0m\u001b[0;34m\u001b[0m\u001b[0m\n\u001b[1;32m    600\u001b[0m           outputs = execute.execute_with_cancellation(\n",
            "\u001b[0;32m/usr/local/lib/python3.6/dist-packages/tensorflow/python/eager/execute.py\u001b[0m in \u001b[0;36mquick_execute\u001b[0;34m(op_name, num_outputs, inputs, attrs, ctx, name)\u001b[0m\n\u001b[1;32m     58\u001b[0m     \u001b[0mctx\u001b[0m\u001b[0;34m.\u001b[0m\u001b[0mensure_initialized\u001b[0m\u001b[0;34m(\u001b[0m\u001b[0;34m)\u001b[0m\u001b[0;34m\u001b[0m\u001b[0;34m\u001b[0m\u001b[0m\n\u001b[1;32m     59\u001b[0m     tensors = pywrap_tfe.TFE_Py_Execute(ctx._handle, device_name, op_name,\n\u001b[0;32m---> 60\u001b[0;31m                                         inputs, attrs, num_outputs)\n\u001b[0m\u001b[1;32m     61\u001b[0m   \u001b[0;32mexcept\u001b[0m \u001b[0mcore\u001b[0m\u001b[0;34m.\u001b[0m\u001b[0m_NotOkStatusException\u001b[0m \u001b[0;32mas\u001b[0m \u001b[0me\u001b[0m\u001b[0;34m:\u001b[0m\u001b[0;34m\u001b[0m\u001b[0;34m\u001b[0m\u001b[0m\n\u001b[1;32m     62\u001b[0m     \u001b[0;32mif\u001b[0m \u001b[0mname\u001b[0m \u001b[0;32mis\u001b[0m \u001b[0;32mnot\u001b[0m \u001b[0;32mNone\u001b[0m\u001b[0;34m:\u001b[0m\u001b[0;34m\u001b[0m\u001b[0;34m\u001b[0m\u001b[0m\n",
            "\u001b[0;31mKeyboardInterrupt\u001b[0m: "
          ]
        }
      ]
    },
    {
      "cell_type": "markdown",
      "metadata": {
        "id": "4ie1gdDpXSq9",
        "colab_type": "text"
      },
      "source": [
        "### Results"
      ]
    },
    {
      "cell_type": "code",
      "metadata": {
        "id": "LPF_hL4w9cKY",
        "colab_type": "code",
        "colab": {
          "base_uri": "https://localhost:8080/",
          "height": 285
        },
        "outputId": "bfcdddd6-36dd-45ab-cab9-efa402812b0b"
      },
      "source": [
        "plt.imshow(val_images[2,:,:,0],cmap=\"gray\") # show sample image from the dataset"
      ],
      "execution_count": 37,
      "outputs": [
        {
          "output_type": "execute_result",
          "data": {
            "text/plain": [
              "<matplotlib.image.AxesImage at 0x7efb836dcba8>"
            ]
          },
          "metadata": {
            "tags": []
          },
          "execution_count": 37
        },
        {
          "output_type": "display_data",
          "data": {
            "image/png": "[encoded data removed]",
            "text/plain": [
              "<Figure size 432x288 with 1 Axes>"
            ]
          },
          "metadata": {
            "tags": [],
            "needs_background": "light"
          }
        }
      ]
    },
    {
      "cell_type": "code",
      "metadata": {
        "id": "AI8ScxdyXSU5",
        "colab_type": "code",
        "colab": {
          "base_uri": "https://localhost:8080/",
          "height": 285
        },
        "outputId": "4cdd12ff-b297-4bec-8578-3f2383f31ede"
      },
      "source": [
        "# reproduce the above image\n",
        "encoded = encoder.predict(val_images_downscaled[2:3]) # pass through encoder and decoder\n",
        "[pred] = decoder.predict(encoded)\n",
        "pred = np.array(np.rint(pred), dtype=int)\n",
        "pred = np.where(pred > 255, 255, pred) # reduce too large pixel values\n",
        "pred = np.where(pred < 0, 0, pred) # swap negative values for zero\n",
        "plt.imshow(pred[:,:,0],cmap=\"gray\") # show image"
      ],
      "execution_count": 38,
      "outputs": [
        {
          "output_type": "execute_result",
          "data": {
            "text/plain": [
              "<matplotlib.image.AxesImage at 0x7efb83731390>"
            ]
          },
          "metadata": {
            "tags": []
          },
          "execution_count": 38
        },
        {
          "output_type": "display_data",
          "data": {
            "image/png": "[encoded data removed]",
            "text/plain": [
              "<Figure size 432x288 with 1 Axes>"
            ]
          },
          "metadata": {
            "tags": [],
            "needs_background": "light"
          }
        }
      ]
    },
    {
      "cell_type": "code",
      "metadata": {
        "id": "CT9RNn15KNjH",
        "colab_type": "code",
        "colab": {}
      },
      "source": [
        "encoded_batch = encoder.predict(val_images_downscaled[:30]) # pass an entire val batch through the model\n"
      ],
      "execution_count": 0,
      "outputs": []
    },
    {
      "cell_type": "markdown",
      "metadata": {
        "id": "emeF1fJjDpJr",
        "colab_type": "text"
      },
      "source": [
        "### Plot encoded data"
      ]
    },
    {
      "cell_type": "code",
      "metadata": {
        "id": "-j2uQp8TDpim",
        "colab_type": "code",
        "colab": {
          "base_uri": "https://localhost:8080/",
          "height": 302
        },
        "outputId": "c85dd4dd-d48e-46dc-b382-a4db139dfd60"
      },
      "source": [
        "data = encoded_batch[:,0,0,0] # plot distribution of a single pixel\n",
        "sns.distplot(data, fit=norm) # plot gauss distribution\n",
        "print(data.std()) # print std and mean of the pixel over the images\n",
        "print(data.mean())"
      ],
      "execution_count": 40,
      "outputs": [
        {
          "output_type": "stream",
          "text": [
            "0.9934868\n",
            "0.08756098\n"
          ],
          "name": "stdout"
        },
        {
          "output_type": "display_data",
          "data": {
            "image/png": "[encoded data removed]",
            "text/plain": [
              "<Figure size 432x288 with 1 Axes>"
            ]
          },
          "metadata": {
            "tags": [],
            "needs_background": "light"
          }
        }
      ]
    },
    {
      "cell_type": "markdown",
      "metadata": {
        "id": "WHcT_BrKHIOL",
        "colab_type": "text"
      },
      "source": [
        "### Generate images"
      ]
    },
    {
      "cell_type": "code",
      "metadata": {
        "id": "ovVKY3j1HizE",
        "colab_type": "code",
        "colab": {
          "base_uri": "https://localhost:8080/",
          "height": 285
        },
        "outputId": "1050a39e-382a-4052-dd47-55e5b62291f3"
      },
      "source": [
        "gen_enc = np.random.randn(encoded.shape[0],encoded.shape[1],encoded.shape[2], encoded.shape[3]) # create random compressed image\n",
        "[pred] = decoder.predict(gen_enc) # generate image from the compressed representation\n",
        "pred = np.array(np.rint(pred), dtype=int)\n",
        "pred = np.where(pred > 255, 255, pred) # reduce too large pixel values\n",
        "pred = np.where(pred < 0, 0, pred) # swap negative values for zero\n",
        "plt.imshow(pred[:,:,0],cmap=\"gray\") # show image"
      ],
      "execution_count": 115,
      "outputs": [
        {
          "output_type": "execute_result",
          "data": {
            "text/plain": [
              "<matplotlib.image.AxesImage at 0x7efb7ddbc780>"
            ]
          },
          "metadata": {
            "tags": []
          },
          "execution_count": 115
        },
        {
          "output_type": "display_data",
          "data": {
            "image/png": "[encoded data removed]",
            "text/plain": [
              "<Figure size 432x288 with 1 Axes>"
            ]
          },
          "metadata": {
            "tags": [],
            "needs_background": "light"
          }
        }
      ]
    }
  ]
}
