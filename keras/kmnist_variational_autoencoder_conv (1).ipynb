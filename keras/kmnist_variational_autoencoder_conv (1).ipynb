{
  "nbformat": 4,
  "nbformat_minor": 0,
  "metadata": {
    "colab": {
      "name": "kmnist_variational_autoencoder_conv.ipynb",
      "provenance": [],
      "collapsed_sections": [],
      "toc_visible": true,
      "machine_shape": "hm"
    },
    "kernelspec": {
      "name": "python3",
      "display_name": "Python 3"
    },
    "accelerator": "TPU"
  },
  "cells": [
    {
      "cell_type": "markdown",
      "metadata": {
        "id": "UW6il0pxeMWQ",
        "colab_type": "text"
      },
      "source": [
        "# Denoising autoencoder -- ConvNet implementation"
      ]
    },
    {
      "cell_type": "markdown",
      "metadata": {
        "id": "sA0lXBhqeUVI",
        "colab_type": "text"
      },
      "source": [
        "### Download data"
      ]
    },
    {
      "cell_type": "code",
      "metadata": {
        "id": "TKWecLGXYH3Z",
        "colab_type": "code",
        "outputId": "f3d78144-9510-4aef-9269-655367a59945",
        "colab": {
          "base_uri": "https://localhost:8080/",
          "height": 428
        }
      },
      "source": [
        "!wget -O train http://codh.rois.ac.jp/kmnist/dataset/kmnist/kmnist-train-imgs.npz # download train set\n",
        "!wget -O val http://codh.rois.ac.jp/kmnist/dataset/kmnist/kmnist-test-imgs.npz # download val set\n",
        "!mkdir datasets \n",
        "!mv train datasets\n",
        "!mv val datasets"
      ],
      "execution_count": 0,
      "outputs": [
        {
          "output_type": "stream",
          "text": [
            "--2020-05-15 18:17:24--  http://codh.rois.ac.jp/kmnist/dataset/kmnist/kmnist-train-imgs.npz\n",
            "Resolving codh.rois.ac.jp (codh.rois.ac.jp)... 136.187.88.58\n",
            "Connecting to codh.rois.ac.jp (codh.rois.ac.jp)|136.187.88.58|:80... connected.\n",
            "HTTP request sent, awaiting response... 200 OK\n",
            "Length: 18384171 (18M)\n",
            "Saving to: ‘train’\n",
            "\n",
            "train               100%[===================>]  17.53M  2.29MB/s    in 5.8s    \n",
            "\n",
            "2020-05-15 18:17:30 (3.00 MB/s) - ‘train’ saved [18384171/18384171]\n",
            "\n",
            "--2020-05-15 18:17:31--  http://codh.rois.ac.jp/kmnist/dataset/kmnist/kmnist-test-imgs.npz\n",
            "Resolving codh.rois.ac.jp (codh.rois.ac.jp)... 136.187.88.58\n",
            "Connecting to codh.rois.ac.jp (codh.rois.ac.jp)|136.187.88.58|:80... connected.\n",
            "HTTP request sent, awaiting response... 200 OK\n",
            "Length: 3079479 (2.9M)\n",
            "Saving to: ‘val’\n",
            "\n",
            "val                 100%[===================>]   2.94M  1.81MB/s    in 1.6s    \n",
            "\n",
            "2020-05-15 18:17:33 (1.81 MB/s) - ‘val’ saved [3079479/3079479]\n",
            "\n"
          ],
          "name": "stdout"
        }
      ]
    },
    {
      "cell_type": "markdown",
      "metadata": {
        "id": "jMxl_cYJebGc",
        "colab_type": "text"
      },
      "source": [
        "### Imports"
      ]
    },
    {
      "cell_type": "code",
      "metadata": {
        "id": "iqv6qPkib1od",
        "colab_type": "code",
        "outputId": "7a0c90fc-c6d4-4dc5-a1b3-915af9657a5a",
        "colab": {
          "base_uri": "https://localhost:8080/",
          "height": 93
        }
      },
      "source": [
        "import numpy as np # numpy for matrix opreations\n",
        "import math # math for mathematical operations\n",
        "import scipy.io # scipy for visualization\n",
        "import matplotlib.pyplot as plt # matplotlib for plotting\n",
        "\n",
        "# keras modules\n",
        "from keras.models import Sequential\n",
        "from keras.layers import Conv2D, MaxPooling2D, UpSampling2D, ReLU\n",
        "from keras.losses import MSE, KLDivergence\n",
        "from keras.optimizers import Adam\n",
        "\n",
        "# efficient tensor operations\n",
        "import tensorflow as tf\n",
        "\n",
        "# tensor operations\n",
        "import tensorflow.keras.backend as K\n",
        "\n",
        "# distribution visualization\n",
        "import seaborn as sns\n",
        "\n",
        "# for plotting normal distribution\n",
        "from scipy.stats import norm\n",
        "\n",
        "# display images with PIL\n",
        "from PIL import Image\n",
        "\n",
        "# for acessing files\n",
        "import os"
      ],
      "execution_count": 0,
      "outputs": [
        {
          "output_type": "stream",
          "text": [
            "Using TensorFlow backend.\n",
            "/usr/local/lib/python3.6/dist-packages/statsmodels/tools/_testing.py:19: FutureWarning: pandas.util.testing is deprecated. Use the functions in the public API at pandas.testing instead.\n",
            "  import pandas.util.testing as tm\n"
          ],
          "name": "stderr"
        }
      ]
    },
    {
      "cell_type": "markdown",
      "metadata": {
        "id": "zBIQKM3Px4An",
        "colab_type": "text"
      },
      "source": [
        "### Read and organize data"
      ]
    },
    {
      "cell_type": "code",
      "metadata": {
        "id": "yCk2lQgUy3S1",
        "colab_type": "code",
        "colab": {}
      },
      "source": [
        "images = np.load(\"datasets/train\")['arr_0'] # load images\n",
        "val_images = np.load(\"datasets/val\")['arr_0']\n",
        "\n",
        "images_temp = np.expand_dims(images, 3) # reshape images for training\n",
        "val_images_temp = np.expand_dims(val_images, 3)\n",
        "\n",
        "images = np.zeros((images.shape[0], 32, 32, 1)) # pad images\n",
        "images[:, 2:30, 2:30, :] = images_temp\n",
        "\n",
        "val_images = np.zeros((val_images.shape[0], 32, 32, 1))\n",
        "val_images[:, 2:30, 2:30, :] = val_images_temp"
      ],
      "execution_count": 0,
      "outputs": []
    },
    {
      "cell_type": "code",
      "metadata": {
        "id": "1yoblUskxCZj",
        "colab_type": "code",
        "outputId": "5b424387-821f-4187-dc31-870a7f27dedf",
        "colab": {
          "base_uri": "https://localhost:8080/",
          "height": 285
        }
      },
      "source": [
        "plt.imshow(images[142,:,:,0], cmap=\"gray\") # display sample image"
      ],
      "execution_count": 0,
      "outputs": [
        {
          "output_type": "execute_result",
          "data": {
            "text/plain": [
              "<matplotlib.image.AxesImage at 0x7f99258e02b0>"
            ]
          },
          "metadata": {
            "tags": []
          },
          "execution_count": 4
        },
        {
          "output_type": "display_data",
          "data": {
            "image/png": "[encoded data removed]",
            "text/plain": [
              "<Figure size 432x288 with 1 Axes>"
            ]
          },
          "metadata": {
            "tags": [],
            "needs_background": "light"
          }
        }
      ]
    },
    {
      "cell_type": "markdown",
      "metadata": {
        "id": "G1Xglpg9aicD",
        "colab_type": "text"
      },
      "source": [
        "### Normalize data"
      ]
    },
    {
      "cell_type": "code",
      "metadata": {
        "id": "NbFlkrw_ah-E",
        "colab_type": "code",
        "colab": {}
      },
      "source": [
        "avg = np.average(images) # calculate mean pixel value in the dataset\n",
        "std = np.std(images) # calculate std of pixel values in the dataset\n",
        "\n",
        "images_downscaled  = (images - avg) / std # normalize data using std normalization\n",
        "val_images_downscaled = (val_images - avg) / std"
      ],
      "execution_count": 0,
      "outputs": []
    },
    {
      "cell_type": "markdown",
      "metadata": {
        "id": "wMacOoyNqVTv",
        "colab_type": "text"
      },
      "source": [
        "### VAE encoder loss formula\n",
        "Using the Kullback-Leibler loss formula."
      ]
    },
    {
      "cell_type": "code",
      "metadata": {
        "id": "WWLLf4n8qVoS",
        "colab_type": "code",
        "colab": {}
      },
      "source": [
        "# KL loss formula\n",
        "def vae_loss(X, Y): #  Y must be torch.zeros\n",
        "  X += Y # this line keeps autograd error messages away\n",
        "  loss = 0 # initialize loss variable\n",
        "  for i in range(X.shape[1]): # iterate over all possible pixel locations\n",
        "    for j in range(X.shape[2]):\n",
        "      for k in range(X.shape[3]):\n",
        "        mean = K.mean(X[:,i,j,k]) # calculate mean and std of pixel location\n",
        "        std = K.std(X[:,i,j,k])\n",
        "        loss += mean*mean+std*std-1-K.log(std*std) # try to minimize the above values using the KL loss formula\n",
        "  return loss"
      ],
      "execution_count": 0,
      "outputs": []
    },
    {
      "cell_type": "markdown",
      "metadata": {
        "id": "lOufPsZZ7r7s",
        "colab_type": "text"
      },
      "source": [
        "### Define model"
      ]
    },
    {
      "cell_type": "code",
      "metadata": {
        "id": "RNAj2Fdv7sRb",
        "colab_type": "code",
        "colab": {}
      },
      "source": [
        "# encoder part\n",
        "class Encoder():\n",
        "    # arguments: number of conv levels, number of layers per level, thickness of layers, kernel size\n",
        "    def __init__(self, levels, layers, thickness, n):\n",
        "        super(Encoder, self).__init__()\n",
        "        self.levels = levels\n",
        "        self.layers = layers\n",
        "        self.n = n\n",
        "        self.thickness = thickness\n",
        "        self.__built = False\n",
        "\n",
        "    # this method builds the encoder\n",
        "    # automatically called on first forward pass or summary\n",
        "    def __build(self, X):\n",
        "        self.__model = Sequential() # sequetnial model\n",
        "        for level in range(self.levels): # calculate convolutional layer sizes and create the layers\n",
        "            for layer in range(self.layers):\n",
        "                if level == 0 and layer == 0:\n",
        "                    self.__model.add(Conv2D(self.thickness*(2**level), kernel_size=(self.n, self.n), padding=\"same\", input_shape=X.shape[1:4], name=f\"encoder_conv{level}_{layer}\"))\n",
        "                else:\n",
        "                    self.__model.add(Conv2D(self.thickness*(2**level), kernel_size=(self.n, self.n), padding=\"same\", name=f\"encoder_conv{level}_{layer}\"))\n",
        "                self.__model.add(ReLU(name=f\"encoder_relu{level}_{layer}\")) # relu to avoid loss of gradient\n",
        "            self.__model.add(MaxPooling2D(pool_size=(2,2), name=f\"encoder_maxpool{level}\")) # maxpool reduces dimensionality\n",
        "        self.__model.add(Conv2D(self.thickness*2**(self.levels-1), kernel_size=(self.n, self.n), padding=\"same\", name=f\"encoder_final_conv\"))\n",
        "        self.__model.compile(loss=vae_loss, optimizer=Adam(lr=0.001)) # apply KL loss\n",
        "        self.__built=True\n",
        "\n",
        "    # forward pass\n",
        "    # __call__ should be called instead\n",
        "    def forward(self, X, Y_target):\n",
        "        if not self.__built:\n",
        "            self.__build(X)\n",
        "        loss = self.__model.train_on_batch(X, Y_target)\n",
        "        return loss\n",
        "    \n",
        "    # print model summary\n",
        "    def summary(self):\n",
        "        assert self.__built, \"Build model first by passing a tensor to it.\"\n",
        "        self.__model.summary()\n",
        "\n",
        "    # forward pass, no training is performed    \n",
        "    def predict(self, X):\n",
        "        if not self.__built:\n",
        "            self.__build(X)\n",
        "        return self.__model.predict(X)\n",
        "\n",
        "    # set trainability of network (does not require rebuild)\n",
        "    def trainable(self, val):\n",
        "        if not self.__built:\n",
        "            self.__build(X)\n",
        "        for layer in self.__model.layers:\n",
        "            layer.trainable = val\n",
        "    \n",
        "    # return inner model\n",
        "    def model(self):\n",
        "        return self.__model\n",
        "\n",
        "# decoder part    \n",
        "class Decoder():\n",
        "   \n",
        "    # parameters: number of conv levels, layers per level, thickness of each level, kernel size\n",
        "    def __init__(self, levels, layers, thickness, n):\n",
        "        super(Decoder, self).__init__()\n",
        "        self.levels = levels\n",
        "        self.layers = layers\n",
        "        self.n = n\n",
        "        self.thickness = thickness\n",
        "        self.__built = False\n",
        "\n",
        "    # this method builds the decoder\n",
        "    # automatically called on first forward pass or summary\n",
        "    def __build(self, X):\n",
        "        self.__model = Sequential() # sequetnial model\n",
        "        for level in reversed(range(self.levels)): # calculate convolutional layer sizes and create the layers\n",
        "            for layer in range(self.layers):\n",
        "                self.__model.add(Conv2D(self.thickness*(2**level), kernel_size=(self.n, self.n), padding=\"same\", name=f\"decoder_conv{level}_{layer}\"))\n",
        "                self.__model.add(ReLU(name=f\"decoder_relu{level}_{layer}\"))  # relu to avoid loss of gradient\n",
        "            self.__model.add(UpSampling2D(size=(2,2), name=f\"decoder_upsampling{level}\")) # upsample layer reduces dimensionality\n",
        "        self.__model.add(Conv2D(1, kernel_size=(self.n, self.n), padding=\"same\", name=\"final_conv\"))\n",
        "        self.__model.compile(loss=['mse'], optimizer=Adam(lr=0.01)) # apply mse after the final layer\n",
        "        self.__built = True\n",
        "\n",
        "    # forward pass\n",
        "    # __call__ should be called instead\n",
        "    def forward(self, X, Y_target):\n",
        "        if not self.__built:\n",
        "            self.__build(X)\n",
        "        loss = self.__model.train_on_batch(X, Y_target)\n",
        "        return loss\n",
        "    \n",
        "    # print model summary\n",
        "    def summary(self):\n",
        "        assert self.__built, \"Build model first by passing a tensor to it.\"\n",
        "        self.__model.summary()\n",
        "    \n",
        "    # forward pass, no training is performed    \n",
        "    def predict(self, X):\n",
        "        if not self.__built:\n",
        "            self.__build(X)\n",
        "        return self.__model.predict(X)\n",
        "\n",
        "    # set trainability of network (does not require rebuild)\n",
        "    def trainable(self, val):\n",
        "        for layer in self.__model.layers:\n",
        "            layer.trainable = val\n",
        "\n",
        "    # return inner model\n",
        "    def model(self):\n",
        "        return self.__model"
      ],
      "execution_count": 0,
      "outputs": []
    },
    {
      "cell_type": "markdown",
      "metadata": {
        "id": "jY9TyUrN4Pdr",
        "colab_type": "text"
      },
      "source": [
        "### Train model"
      ]
    },
    {
      "cell_type": "code",
      "metadata": {
        "id": "L4-onG1H4Njo",
        "colab_type": "code",
        "outputId": "ef08ec77-5486-4aab-c862-94e606bf3521",
        "colab": {
          "base_uri": "https://localhost:8080/",
          "height": 1000
        }
      },
      "source": [
        "epochs = 100 # number of epochs\n",
        "batch_size = 50 # we use mini batching\n",
        "\n",
        "batches = math.ceil(images.shape[0] / batch_size) # calculate number of batches\n",
        "val_batches = math.ceil(val_images.shape[0] / batch_size)\n",
        "\n",
        "# shorten training time\n",
        "# batches = 50\n",
        "# val_batches = 10\n",
        "\n",
        "# define parameters for the encoder and decoder\n",
        "levels = 3 \n",
        "layers = 3\n",
        "thickness = 4\n",
        "n = 3\n",
        "\n",
        "# instantiate encoder and decoder\n",
        "encoder = Encoder(levels, layers, thickness, n)\n",
        "decoder = Decoder(levels, layers, thickness, n)\n",
        "\n",
        "# pass data through encoder and decoder without training\n",
        "# this builds the model\n",
        "X = encoder.predict(images_downscaled[:batch_size])\n",
        "decoder.predict(X)\n",
        "\n",
        "# create dummy target for kl loss\n",
        "kl_zeros = tf.zeros((batch_size,32//(2**levels),32//(2**levels),thickness*2**(levels-1)))\n",
        "\n",
        "# build combined model\n",
        "combined = Sequential()\n",
        "combined.add(encoder.model())\n",
        "combined.add(decoder.model())\n",
        "# mse loss and adam optimizer\n",
        "combined.compile(loss=['mse'], optimizer=\"adam\")\n",
        "\n",
        "# train modle\n",
        "for e in range(epochs):\n",
        "    encoder_loss_total = 0 # initialize encoder loss\n",
        "    decoder_loss_total = 0 # initialize decoder loss\n",
        "    \n",
        "    for b in range(batches): # pass all batches of downscaled data through the network\n",
        "        print(f\"\\r{b}/{batches}\", end=\"\")\n",
        "        # firstly create the batch of data and target data\n",
        "        X = images_downscaled[batch_size*b:batch_size*(b+1)]\n",
        "        Y_target = images[batch_size*b:batch_size*(b+1)]\n",
        "\n",
        "        # enable training\n",
        "        encoder.trainable(True) # this method actually enables training by looping over all layers (defined above)\n",
        "        decoder.trainable(True)\n",
        "\n",
        "        encoder_loss_total += encoder.forward(X, kl_zeros) # add batch loss to total\n",
        "        decoder_loss_total += combined.train_on_batch(X, Y_target)\n",
        "    \n",
        "    # print loss\n",
        "    print(f\"\\repoch {e} -- enc loss: {encoder_loss_total / (batches*batch_size)} -- dec loss: {decoder_loss_total / (batches*batch_size)}\", end=\" -- \")\n",
        "\n",
        "    val_encoder_loss_total = 0 # initialize val encoder loss\n",
        "    val_decoder_loss_total = 0 # initialize val decoder loss\n",
        "    for b in range(val_batches):  # pass all batches of downscaled val data through the network\n",
        "\n",
        "        X = val_images_downscaled[batch_size*b:batch_size*(b+1)]\n",
        "        Y_target = val_images[batch_size*b:batch_size*(b+1)]\n",
        "\n",
        "        encoder.trainable(False) # disable training\n",
        "        decoder.trainable(False)\n",
        "\n",
        "        val_encoder_loss_total += encoder.forward(X, kl_zeros) # add batch loss to total\n",
        "        val_decoder_loss_total += combined.train_on_batch(X, Y_target)\n",
        "    \n",
        "    # print val loss\n",
        "    print(f\"val enc loss: {val_encoder_loss_total / (val_batches*batch_size)} -- val dec loss: {val_decoder_loss_total / (val_batches*batch_size)}\")\n"
      ],
      "execution_count": 8,
      "outputs": [
        {
          "output_type": "stream",
          "text": [
            "epoch 0 -- enc loss: 1.7253920659383137 -- dec loss: 70.52607598876953 -- "
          ],
          "name": "stdout"
        },
        {
          "output_type": "stream",
          "text": [
            "/usr/local/lib/python3.6/dist-packages/keras/engine/training.py:297: UserWarning: Discrepancy between trainable weights and collected trainable weights, did you set `model.trainable` without calling `model.compile` after ?\n",
            "  'Discrepancy between trainable weights and collected trainable'\n"
          ],
          "name": "stderr"
        },
        {
          "output_type": "stream",
          "text": [
            "val enc loss: 0.37206094884872437 -- val dec loss: 49.594803051757815\n",
            "epoch 1 -- enc loss: 0.2938403494358063 -- dec loss: 41.750923695882165 -- val enc loss: 0.28141383085250854 -- val dec loss: 39.884020837402346\n",
            "epoch 2 -- enc loss: 0.25599949769973757 -- dec loss: 35.33710475056966 -- val enc loss: 0.24893908562660216 -- val dec loss: 35.26674212646484\n",
            "epoch 3 -- enc loss: 0.2365950299978256 -- dec loss: 31.71482037963867 -- val enc loss: 0.24683955326080323 -- val dec loss: 32.56852528076172\n",
            "epoch 4 -- enc loss: 0.2300300544500351 -- dec loss: 29.226266566975912 -- val enc loss: 0.24165264620780944 -- val dec loss: 30.33304309082031\n",
            "epoch 5 -- enc loss: 0.22570900622208914 -- dec loss: 27.215455497233073 -- val enc loss: 0.2383124825000763 -- val dec loss: 28.626860815429687\n",
            "epoch 6 -- enc loss: 0.22298363690376283 -- dec loss: 25.683354174804688 -- val enc loss: 0.23293985667228698 -- val dec loss: 27.31917604980469\n",
            "epoch 7 -- enc loss: 0.22105363028844197 -- dec loss: 24.47400720316569 -- val enc loss: 0.22800893659591676 -- val dec loss: 26.14989737548828\n",
            "epoch 8 -- enc loss: 0.21976978992621105 -- dec loss: 23.46168747660319 -- val enc loss: 0.22429601078033448 -- val dec loss: 25.23128524169922\n",
            "epoch 9 -- enc loss: 0.2195779240131378 -- dec loss: 22.635081857299806 -- val enc loss: 0.22943281831741333 -- val dec loss: 24.586195239257812\n",
            "epoch 10 -- enc loss: 0.21858203186194103 -- dec loss: 21.948707609049478 -- val enc loss: 0.23531154828071593 -- val dec loss: 24.074861492919922\n",
            "epoch 11 -- enc loss: 0.2177962700287501 -- dec loss: 21.370496490478516 -- val enc loss: 0.23064086894989014 -- val dec loss: 23.439236248779295\n",
            "epoch 12 -- enc loss: 0.21857390383879344 -- dec loss: 20.91885505371094 -- val enc loss: 0.22991690335273743 -- val dec loss: 22.978834606933592\n",
            "epoch 13 -- enc loss: 0.22171265767415366 -- dec loss: 20.684900917561848 -- val enc loss: 0.23444314851760864 -- val dec loss: 22.805692639160156\n",
            "epoch 14 -- enc loss: 0.22069018750985464 -- dec loss: 20.22197121073405 -- val enc loss: 0.23393152055740357 -- val dec loss: 22.495707995605468\n",
            "epoch 15 -- enc loss: 0.22131745569705963 -- dec loss: 19.789961848958335 -- val enc loss: 0.23544315361976623 -- val dec loss: 22.094829473876953\n",
            "epoch 16 -- enc loss: 0.22102355228265128 -- dec loss: 19.444536076863606 -- val enc loss: 0.2272368896484375 -- val dec loss: 21.514872521972656\n",
            "epoch 17 -- enc loss: 0.23370563391844432 -- dec loss: 20.142083065795898 -- val enc loss: 0.21987203822135926 -- val dec loss: 21.4166931640625\n",
            "epoch 18 -- enc loss: 0.21618955947558086 -- dec loss: 19.063852700805665 -- val enc loss: 0.2238113564491272 -- val dec loss: 21.076392443847656\n",
            "epoch 19 -- enc loss: 0.21490686005751292 -- dec loss: 18.761762630208334 -- val enc loss: 0.22103466000556946 -- val dec loss: 20.79169132080078\n",
            "epoch 20 -- enc loss: 0.22402988843917845 -- dec loss: 19.343184514363607 -- val enc loss: 0.2215359649181366 -- val dec loss: 20.944599572753905\n",
            "epoch 21 -- enc loss: 0.22842304406166078 -- dec loss: 19.87179353942871 -- val enc loss: 0.21704950399398804 -- val dec loss: 21.563216241455077\n",
            "epoch 22 -- enc loss: 0.21678631518681843 -- dec loss: 19.33654194030762 -- val enc loss: 0.21295307083129883 -- val dec loss: 20.435626245117188\n",
            "epoch 23 -- enc loss: 0.21697560624281564 -- dec loss: 18.91472033589681 -- val enc loss: 0.21691982212066652 -- val dec loss: 20.463978155517577\n",
            "epoch 24 -- enc loss: 0.21250306687355042 -- dec loss: 18.480512689208986 -- val enc loss: 0.2459778488636017 -- val dec loss: 21.95151749267578\n",
            "epoch 25 -- enc loss: 0.21320562692483266 -- dec loss: 18.71332605794271 -- val enc loss: 0.21786604990959169 -- val dec loss: 20.475837982177733\n",
            "epoch 26 -- enc loss: 0.21466396650473277 -- dec loss: 18.58034753621419 -- val enc loss: 0.22185507526397705 -- val dec loss: 20.561148059082033\n",
            "epoch 27 -- enc loss: 0.22155104320049285 -- dec loss: 19.16472603963216 -- val enc loss: 0.21074598841667175 -- val dec loss: 19.93456207885742\n",
            "epoch 28 -- enc loss: 0.21728443098862965 -- dec loss: 18.70241754760742 -- val enc loss: 0.2168990900039673 -- val dec loss: 20.20008048095703\n",
            "epoch 29 -- enc loss: 0.21174610026677448 -- dec loss: 18.10216080830892 -- val enc loss: 0.21804487071037293 -- val dec loss: 19.862449542236327\n",
            "epoch 30 -- enc loss: 0.20987721568743387 -- dec loss: 17.589845560709634 -- val enc loss: 0.2197958149433136 -- val dec loss: 19.652513812255858\n",
            "epoch 31 -- enc loss: 0.2096932912349701 -- dec loss: 17.368604177856444 -- val enc loss: 0.21887377309799194 -- val dec loss: 19.472153271484373\n",
            "epoch 32 -- enc loss: 0.20985041121641795 -- dec loss: 17.2456041595459 -- val enc loss: 0.21566885437965394 -- val dec loss: 19.22055100708008\n",
            "epoch 33 -- enc loss: 0.210743885020415 -- dec loss: 17.19842071533203 -- val enc loss: 0.21336489615440368 -- val dec loss: 19.0618151184082\n",
            "epoch 34 -- enc loss: 0.21509635896682738 -- dec loss: 17.42117851969401 -- val enc loss: 0.2152214741230011 -- val dec loss: 19.131860369873046\n",
            "epoch 35 -- enc loss: 0.20969693767229716 -- dec loss: 16.927047696940104 -- val enc loss: 0.22867571959495545 -- val dec loss: 19.5897763671875\n",
            "epoch 36 -- enc loss: 0.22028943697214126 -- dec loss: 17.740247037760415 -- val enc loss: 0.22152623863220214 -- val dec loss: 19.218622918701172\n",
            "epoch 37 -- enc loss: 0.20531815459728242 -- dec loss: 16.62399364522298 -- val enc loss: 0.21272845816612243 -- val dec loss: 18.648411407470704\n",
            "epoch 38 -- enc loss: 0.210645311999321 -- dec loss: 16.884503978474935 -- val enc loss: 0.21861334829330445 -- val dec loss: 18.91986502685547\n",
            "epoch 39 -- enc loss: 0.20666486873626708 -- dec loss: 16.57085258890788 -- val enc loss: 0.22432749857902526 -- val dec loss: 19.16269493408203\n",
            "38/1200"
          ],
          "name": "stdout"
        },
        {
          "output_type": "error",
          "ename": "KeyboardInterrupt",
          "evalue": "ignored",
          "traceback": [
            "\u001b[0;31m---------------------------------------------------------------------------\u001b[0m",
            "\u001b[0;31mKeyboardInterrupt\u001b[0m                         Traceback (most recent call last)",
            "\u001b[0;32m<ipython-input-8-791da8c0b1d4>\u001b[0m in \u001b[0;36m<module>\u001b[0;34m()\u001b[0m\n\u001b[1;32m     39\u001b[0m         \u001b[0mdecoder\u001b[0m\u001b[0;34m.\u001b[0m\u001b[0mtrainable\u001b[0m\u001b[0;34m(\u001b[0m\u001b[0;32mTrue\u001b[0m\u001b[0;34m)\u001b[0m\u001b[0;34m\u001b[0m\u001b[0;34m\u001b[0m\u001b[0m\n\u001b[1;32m     40\u001b[0m \u001b[0;34m\u001b[0m\u001b[0m\n\u001b[0;32m---> 41\u001b[0;31m         \u001b[0mencoder_loss_total\u001b[0m \u001b[0;34m+=\u001b[0m \u001b[0mencoder\u001b[0m\u001b[0;34m.\u001b[0m\u001b[0mforward\u001b[0m\u001b[0;34m(\u001b[0m\u001b[0mX\u001b[0m\u001b[0;34m,\u001b[0m \u001b[0mkl_zeros\u001b[0m\u001b[0;34m)\u001b[0m\u001b[0;34m\u001b[0m\u001b[0;34m\u001b[0m\u001b[0m\n\u001b[0m\u001b[1;32m     42\u001b[0m         \u001b[0mdecoder_loss_total\u001b[0m \u001b[0;34m+=\u001b[0m \u001b[0mcombined\u001b[0m\u001b[0;34m.\u001b[0m\u001b[0mtrain_on_batch\u001b[0m\u001b[0;34m(\u001b[0m\u001b[0mX\u001b[0m\u001b[0;34m,\u001b[0m \u001b[0mY_target\u001b[0m\u001b[0;34m)\u001b[0m\u001b[0;34m\u001b[0m\u001b[0;34m\u001b[0m\u001b[0m\n\u001b[1;32m     43\u001b[0m \u001b[0;34m\u001b[0m\u001b[0m\n",
            "\u001b[0;32m<ipython-input-7-3338f1e0d602>\u001b[0m in \u001b[0;36mforward\u001b[0;34m(self, X, Y_target)\u001b[0m\n\u001b[1;32m     26\u001b[0m         \u001b[0;32mif\u001b[0m \u001b[0;32mnot\u001b[0m \u001b[0mself\u001b[0m\u001b[0;34m.\u001b[0m\u001b[0m__built\u001b[0m\u001b[0;34m:\u001b[0m\u001b[0;34m\u001b[0m\u001b[0;34m\u001b[0m\u001b[0m\n\u001b[1;32m     27\u001b[0m             \u001b[0mself\u001b[0m\u001b[0;34m.\u001b[0m\u001b[0m__build\u001b[0m\u001b[0;34m(\u001b[0m\u001b[0mX\u001b[0m\u001b[0;34m)\u001b[0m\u001b[0;34m\u001b[0m\u001b[0;34m\u001b[0m\u001b[0m\n\u001b[0;32m---> 28\u001b[0;31m         \u001b[0mloss\u001b[0m \u001b[0;34m=\u001b[0m \u001b[0mself\u001b[0m\u001b[0;34m.\u001b[0m\u001b[0m__model\u001b[0m\u001b[0;34m.\u001b[0m\u001b[0mtrain_on_batch\u001b[0m\u001b[0;34m(\u001b[0m\u001b[0mX\u001b[0m\u001b[0;34m,\u001b[0m \u001b[0mY_target\u001b[0m\u001b[0;34m)\u001b[0m\u001b[0;34m\u001b[0m\u001b[0;34m\u001b[0m\u001b[0m\n\u001b[0m\u001b[1;32m     29\u001b[0m         \u001b[0;32mreturn\u001b[0m \u001b[0mloss\u001b[0m\u001b[0;34m\u001b[0m\u001b[0;34m\u001b[0m\u001b[0m\n\u001b[1;32m     30\u001b[0m \u001b[0;34m\u001b[0m\u001b[0m\n",
            "\u001b[0;32m/usr/local/lib/python3.6/dist-packages/keras/engine/training.py\u001b[0m in \u001b[0;36mtrain_on_batch\u001b[0;34m(self, x, y, sample_weight, class_weight, reset_metrics)\u001b[0m\n\u001b[1;32m   1512\u001b[0m             \u001b[0mins\u001b[0m \u001b[0;34m=\u001b[0m \u001b[0mx\u001b[0m \u001b[0;34m+\u001b[0m \u001b[0my\u001b[0m \u001b[0;34m+\u001b[0m \u001b[0msample_weights\u001b[0m\u001b[0;34m\u001b[0m\u001b[0;34m\u001b[0m\u001b[0m\n\u001b[1;32m   1513\u001b[0m         \u001b[0mself\u001b[0m\u001b[0;34m.\u001b[0m\u001b[0m_make_train_function\u001b[0m\u001b[0;34m(\u001b[0m\u001b[0;34m)\u001b[0m\u001b[0;34m\u001b[0m\u001b[0;34m\u001b[0m\u001b[0m\n\u001b[0;32m-> 1514\u001b[0;31m         \u001b[0moutputs\u001b[0m \u001b[0;34m=\u001b[0m \u001b[0mself\u001b[0m\u001b[0;34m.\u001b[0m\u001b[0mtrain_function\u001b[0m\u001b[0;34m(\u001b[0m\u001b[0mins\u001b[0m\u001b[0;34m)\u001b[0m\u001b[0;34m\u001b[0m\u001b[0;34m\u001b[0m\u001b[0m\n\u001b[0m\u001b[1;32m   1515\u001b[0m \u001b[0;34m\u001b[0m\u001b[0m\n\u001b[1;32m   1516\u001b[0m         \u001b[0;32mif\u001b[0m \u001b[0mreset_metrics\u001b[0m\u001b[0;34m:\u001b[0m\u001b[0;34m\u001b[0m\u001b[0;34m\u001b[0m\u001b[0m\n",
            "\u001b[0;32m/usr/local/lib/python3.6/dist-packages/tensorflow/python/keras/backend.py\u001b[0m in \u001b[0;36m__call__\u001b[0;34m(self, inputs)\u001b[0m\n\u001b[1;32m   3790\u001b[0m         \u001b[0mvalue\u001b[0m \u001b[0;34m=\u001b[0m \u001b[0mmath_ops\u001b[0m\u001b[0;34m.\u001b[0m\u001b[0mcast\u001b[0m\u001b[0;34m(\u001b[0m\u001b[0mvalue\u001b[0m\u001b[0;34m,\u001b[0m \u001b[0mtensor\u001b[0m\u001b[0;34m.\u001b[0m\u001b[0mdtype\u001b[0m\u001b[0;34m)\u001b[0m\u001b[0;34m\u001b[0m\u001b[0;34m\u001b[0m\u001b[0m\n\u001b[1;32m   3791\u001b[0m       \u001b[0mconverted_inputs\u001b[0m\u001b[0;34m.\u001b[0m\u001b[0mappend\u001b[0m\u001b[0;34m(\u001b[0m\u001b[0mvalue\u001b[0m\u001b[0;34m)\u001b[0m\u001b[0;34m\u001b[0m\u001b[0;34m\u001b[0m\u001b[0m\n\u001b[0;32m-> 3792\u001b[0;31m     \u001b[0moutputs\u001b[0m \u001b[0;34m=\u001b[0m \u001b[0mself\u001b[0m\u001b[0;34m.\u001b[0m\u001b[0m_graph_fn\u001b[0m\u001b[0;34m(\u001b[0m\u001b[0;34m*\u001b[0m\u001b[0mconverted_inputs\u001b[0m\u001b[0;34m)\u001b[0m\u001b[0;34m\u001b[0m\u001b[0;34m\u001b[0m\u001b[0m\n\u001b[0m\u001b[1;32m   3793\u001b[0m \u001b[0;34m\u001b[0m\u001b[0m\n\u001b[1;32m   3794\u001b[0m     \u001b[0;31m# EagerTensor.numpy() will often make a copy to ensure memory safety.\u001b[0m\u001b[0;34m\u001b[0m\u001b[0;34m\u001b[0m\u001b[0;34m\u001b[0m\u001b[0m\n",
            "\u001b[0;32m/usr/local/lib/python3.6/dist-packages/tensorflow/python/eager/function.py\u001b[0m in \u001b[0;36m__call__\u001b[0;34m(self, *args, **kwargs)\u001b[0m\n\u001b[1;32m   1603\u001b[0m       \u001b[0mTypeError\u001b[0m\u001b[0;34m:\u001b[0m \u001b[0mFor\u001b[0m \u001b[0minvalid\u001b[0m \u001b[0mpositional\u001b[0m\u001b[0;34m/\u001b[0m\u001b[0mkeyword\u001b[0m \u001b[0margument\u001b[0m \u001b[0mcombinations\u001b[0m\u001b[0;34m.\u001b[0m\u001b[0;34m\u001b[0m\u001b[0;34m\u001b[0m\u001b[0m\n\u001b[1;32m   1604\u001b[0m     \"\"\"\n\u001b[0;32m-> 1605\u001b[0;31m     \u001b[0;32mreturn\u001b[0m \u001b[0mself\u001b[0m\u001b[0;34m.\u001b[0m\u001b[0m_call_impl\u001b[0m\u001b[0;34m(\u001b[0m\u001b[0margs\u001b[0m\u001b[0;34m,\u001b[0m \u001b[0mkwargs\u001b[0m\u001b[0;34m)\u001b[0m\u001b[0;34m\u001b[0m\u001b[0;34m\u001b[0m\u001b[0m\n\u001b[0m\u001b[1;32m   1606\u001b[0m \u001b[0;34m\u001b[0m\u001b[0m\n\u001b[1;32m   1607\u001b[0m   \u001b[0;32mdef\u001b[0m \u001b[0m_call_impl\u001b[0m\u001b[0;34m(\u001b[0m\u001b[0mself\u001b[0m\u001b[0;34m,\u001b[0m \u001b[0margs\u001b[0m\u001b[0;34m,\u001b[0m \u001b[0mkwargs\u001b[0m\u001b[0;34m,\u001b[0m \u001b[0mcancellation_manager\u001b[0m\u001b[0;34m=\u001b[0m\u001b[0;32mNone\u001b[0m\u001b[0;34m)\u001b[0m\u001b[0;34m:\u001b[0m\u001b[0;34m\u001b[0m\u001b[0;34m\u001b[0m\u001b[0m\n",
            "\u001b[0;32m/usr/local/lib/python3.6/dist-packages/tensorflow/python/eager/function.py\u001b[0m in \u001b[0;36m_call_impl\u001b[0;34m(self, args, kwargs, cancellation_manager)\u001b[0m\n\u001b[1;32m   1643\u001b[0m       raise TypeError(\"Keyword arguments {} unknown. Expected {}.\".format(\n\u001b[1;32m   1644\u001b[0m           list(kwargs.keys()), list(self._arg_keywords)))\n\u001b[0;32m-> 1645\u001b[0;31m     \u001b[0;32mreturn\u001b[0m \u001b[0mself\u001b[0m\u001b[0;34m.\u001b[0m\u001b[0m_call_flat\u001b[0m\u001b[0;34m(\u001b[0m\u001b[0margs\u001b[0m\u001b[0;34m,\u001b[0m \u001b[0mself\u001b[0m\u001b[0;34m.\u001b[0m\u001b[0mcaptured_inputs\u001b[0m\u001b[0;34m,\u001b[0m \u001b[0mcancellation_manager\u001b[0m\u001b[0;34m)\u001b[0m\u001b[0;34m\u001b[0m\u001b[0;34m\u001b[0m\u001b[0m\n\u001b[0m\u001b[1;32m   1646\u001b[0m \u001b[0;34m\u001b[0m\u001b[0m\n\u001b[1;32m   1647\u001b[0m   \u001b[0;32mdef\u001b[0m \u001b[0m_filtered_call\u001b[0m\u001b[0;34m(\u001b[0m\u001b[0mself\u001b[0m\u001b[0;34m,\u001b[0m \u001b[0margs\u001b[0m\u001b[0;34m,\u001b[0m \u001b[0mkwargs\u001b[0m\u001b[0;34m)\u001b[0m\u001b[0;34m:\u001b[0m\u001b[0;34m\u001b[0m\u001b[0;34m\u001b[0m\u001b[0m\n",
            "\u001b[0;32m/usr/local/lib/python3.6/dist-packages/tensorflow/python/eager/function.py\u001b[0m in \u001b[0;36m_call_flat\u001b[0;34m(self, args, captured_inputs, cancellation_manager)\u001b[0m\n\u001b[1;32m   1744\u001b[0m       \u001b[0;31m# No tape is watching; skip to running the function.\u001b[0m\u001b[0;34m\u001b[0m\u001b[0;34m\u001b[0m\u001b[0;34m\u001b[0m\u001b[0m\n\u001b[1;32m   1745\u001b[0m       return self._build_call_outputs(self._inference_function.call(\n\u001b[0;32m-> 1746\u001b[0;31m           ctx, args, cancellation_manager=cancellation_manager))\n\u001b[0m\u001b[1;32m   1747\u001b[0m     forward_backward = self._select_forward_and_backward_functions(\n\u001b[1;32m   1748\u001b[0m         \u001b[0margs\u001b[0m\u001b[0;34m,\u001b[0m\u001b[0;34m\u001b[0m\u001b[0;34m\u001b[0m\u001b[0m\n",
            "\u001b[0;32m/usr/local/lib/python3.6/dist-packages/tensorflow/python/eager/function.py\u001b[0m in \u001b[0;36mcall\u001b[0;34m(self, ctx, args, cancellation_manager)\u001b[0m\n\u001b[1;32m    596\u001b[0m               \u001b[0minputs\u001b[0m\u001b[0;34m=\u001b[0m\u001b[0margs\u001b[0m\u001b[0;34m,\u001b[0m\u001b[0;34m\u001b[0m\u001b[0;34m\u001b[0m\u001b[0m\n\u001b[1;32m    597\u001b[0m               \u001b[0mattrs\u001b[0m\u001b[0;34m=\u001b[0m\u001b[0mattrs\u001b[0m\u001b[0;34m,\u001b[0m\u001b[0;34m\u001b[0m\u001b[0;34m\u001b[0m\u001b[0m\n\u001b[0;32m--> 598\u001b[0;31m               ctx=ctx)\n\u001b[0m\u001b[1;32m    599\u001b[0m         \u001b[0;32melse\u001b[0m\u001b[0;34m:\u001b[0m\u001b[0;34m\u001b[0m\u001b[0;34m\u001b[0m\u001b[0m\n\u001b[1;32m    600\u001b[0m           outputs = execute.execute_with_cancellation(\n",
            "\u001b[0;32m/usr/local/lib/python3.6/dist-packages/tensorflow/python/eager/execute.py\u001b[0m in \u001b[0;36mquick_execute\u001b[0;34m(op_name, num_outputs, inputs, attrs, ctx, name)\u001b[0m\n\u001b[1;32m     58\u001b[0m     \u001b[0mctx\u001b[0m\u001b[0;34m.\u001b[0m\u001b[0mensure_initialized\u001b[0m\u001b[0;34m(\u001b[0m\u001b[0;34m)\u001b[0m\u001b[0;34m\u001b[0m\u001b[0;34m\u001b[0m\u001b[0m\n\u001b[1;32m     59\u001b[0m     tensors = pywrap_tfe.TFE_Py_Execute(ctx._handle, device_name, op_name,\n\u001b[0;32m---> 60\u001b[0;31m                                         inputs, attrs, num_outputs)\n\u001b[0m\u001b[1;32m     61\u001b[0m   \u001b[0;32mexcept\u001b[0m \u001b[0mcore\u001b[0m\u001b[0;34m.\u001b[0m\u001b[0m_NotOkStatusException\u001b[0m \u001b[0;32mas\u001b[0m \u001b[0me\u001b[0m\u001b[0;34m:\u001b[0m\u001b[0;34m\u001b[0m\u001b[0;34m\u001b[0m\u001b[0m\n\u001b[1;32m     62\u001b[0m     \u001b[0;32mif\u001b[0m \u001b[0mname\u001b[0m \u001b[0;32mis\u001b[0m \u001b[0;32mnot\u001b[0m \u001b[0;32mNone\u001b[0m\u001b[0;34m:\u001b[0m\u001b[0;34m\u001b[0m\u001b[0;34m\u001b[0m\u001b[0m\n",
            "\u001b[0;31mKeyboardInterrupt\u001b[0m: "
          ]
        }
      ]
    },
    {
      "cell_type": "markdown",
      "metadata": {
        "id": "4ie1gdDpXSq9",
        "colab_type": "text"
      },
      "source": [
        "### Results"
      ]
    },
    {
      "cell_type": "code",
      "metadata": {
        "id": "LPF_hL4w9cKY",
        "colab_type": "code",
        "colab": {
          "base_uri": "https://localhost:8080/",
          "height": 285
        },
        "outputId": "54881e65-aba4-4c97-8f84-8b49054ab0cd"
      },
      "source": [
        "plt.imshow(val_images[1,:,:,0],cmap=\"gray\") # show sample reproduced image"
      ],
      "execution_count": 11,
      "outputs": [
        {
          "output_type": "execute_result",
          "data": {
            "text/plain": [
              "<matplotlib.image.AxesImage at 0x7f98e1af9ba8>"
            ]
          },
          "metadata": {
            "tags": []
          },
          "execution_count": 11
        },
        {
          "output_type": "display_data",
          "data": {
            "image/png": "[encoded data removed]",
            "text/plain": [
              "<Figure size 432x288 with 1 Axes>"
            ]
          },
          "metadata": {
            "tags": [],
            "needs_background": "light"
          }
        }
      ]
    },
    {
      "cell_type": "code",
      "metadata": {
        "id": "AI8ScxdyXSU5",
        "colab_type": "code",
        "colab": {
          "base_uri": "https://localhost:8080/",
          "height": 285
        },
        "outputId": "2744e2ed-0bbc-4987-b746-975e2cc50170"
      },
      "source": [
        "# reproduce the above image\n",
        "encoded = encoder.predict(val_images_downscaled[1:2]) # pass through encoder and decoder\n",
        "[pred] = decoder.predict(encoded)\n",
        "pred = np.array(np.rint(pred), dtype=int)\n",
        "pred = np.where(pred > 255, 255, pred) # reduce too large pixel values\n",
        "pred = np.where(pred < 0, 0, pred) # swap negative values for zero\n",
        "plt.imshow(pred[:,:,0],cmap=\"gray\") # show image"
      ],
      "execution_count": 12,
      "outputs": [
        {
          "output_type": "execute_result",
          "data": {
            "text/plain": [
              "<matplotlib.image.AxesImage at 0x7f98e1989358>"
            ]
          },
          "metadata": {
            "tags": []
          },
          "execution_count": 12
        },
        {
          "output_type": "display_data",
          "data": {
            "image/png": "[encoded data removed]",
            "text/plain": [
              "<Figure size 432x288 with 1 Axes>"
            ]
          },
          "metadata": {
            "tags": [],
            "needs_background": "light"
          }
        }
      ]
    },
    {
      "cell_type": "code",
      "metadata": {
        "id": "CT9RNn15KNjH",
        "colab_type": "code",
        "colab": {}
      },
      "source": [
        "encoded_batch = encoder.predict(val_images_downscaled[:30]) # pass an entire val batch through the model\n"
      ],
      "execution_count": 0,
      "outputs": []
    },
    {
      "cell_type": "markdown",
      "metadata": {
        "id": "emeF1fJjDpJr",
        "colab_type": "text"
      },
      "source": [
        "### Plot encoded data"
      ]
    },
    {
      "cell_type": "code",
      "metadata": {
        "id": "-j2uQp8TDpim",
        "colab_type": "code",
        "colab": {
          "base_uri": "https://localhost:8080/",
          "height": 302
        },
        "outputId": "b6371903-3b66-4a76-e829-c774ebdcd187"
      },
      "source": [
        "data = encoded_batch[:,0,0,0] # plot distribution of a single pixel\n",
        "sns.distplot(data, fit=norm) # plot gauss distribution\n",
        "print(data.std()) # print std and mean of the pixel over the images\n",
        "print(data.mean())"
      ],
      "execution_count": 14,
      "outputs": [
        {
          "output_type": "stream",
          "text": [
            "0.9858623\n",
            "0.09975433\n"
          ],
          "name": "stdout"
        },
        {
          "output_type": "display_data",
          "data": {
            "image/png": "[encoded data removed]",
            "text/plain": [
              "<Figure size 432x288 with 1 Axes>"
            ]
          },
          "metadata": {
            "tags": [],
            "needs_background": "light"
          }
        }
      ]
    },
    {
      "cell_type": "markdown",
      "metadata": {
        "id": "WHcT_BrKHIOL",
        "colab_type": "text"
      },
      "source": [
        "### Generate images"
      ]
    },
    {
      "cell_type": "code",
      "metadata": {
        "id": "ovVKY3j1HizE",
        "colab_type": "code",
        "colab": {
          "base_uri": "https://localhost:8080/",
          "height": 285
        },
        "outputId": "9328cd63-688e-41cd-a832-13a47ee47fd4"
      },
      "source": [
        "gen_enc = np.random.randn(encoded.shape[0],encoded.shape[1],encoded.shape[2], encoded.shape[3]) # create random compressed image\n",
        "[pred] = decoder.predict(gen_enc) # generate image from the compressed representation\n",
        "pred = np.array(np.rint(pred), dtype=int)\n",
        "pred = np.where(pred > 255, 255, pred) # reduce too large pixel values\n",
        "pred = np.where(pred < 0, 0, pred) # swap negative values for zero\n",
        "plt.imshow(pred[:,:,0],cmap=\"gray\") # show image"
      ],
      "execution_count": 35,
      "outputs": [
        {
          "output_type": "execute_result",
          "data": {
            "text/plain": [
              "<matplotlib.image.AxesImage at 0x7f98ddb70a20>"
            ]
          },
          "metadata": {
            "tags": []
          },
          "execution_count": 35
        },
        {
          "output_type": "display_data",
          "data": {
            "image/png": "[encoded data removed]",
            "text/plain": [
              "<Figure size 432x288 with 1 Axes>"
            ]
          },
          "metadata": {
            "tags": [],
            "needs_background": "light"
          }
        }
      ]
    }
  ]
}